{
 "cells": [
  {
   "cell_type": "markdown",
   "id": "259bb4bc",
   "metadata": {},
   "source": [
    "# Project 1-Team 2"
   ]
  },
  {
   "cell_type": "markdown",
   "id": "83876859",
   "metadata": {},
   "source": [
    "Contributors:\n",
    " \n",
    "B.Kidston || J.Enkhbaatar|| X. Liu (Kate) || N. Girdharry || S. Akiyesi"
   ]
  },
  {
   "cell_type": "markdown",
   "id": "40b2e37d",
   "metadata": {},
   "source": [
    "# DATA EXPLORATION"
   ]
  },
  {
   "cell_type": "code",
   "execution_count": 1,
   "id": "4f593954",
   "metadata": {},
   "outputs": [
    {
     "name": "stdout",
     "output_type": "stream",
     "text": [
      "                        Name    Year Rating Duration  \\\n",
      "0              The Sea Beast  2022.0     7+   1h 59m   \n",
      "1     Sonic the HedAllehoAll  2020.0     7+   1h 41m   \n",
      "2              Tom and Jerry  2021.0     7+   1h 41m   \n",
      "3           We Can Be Heroes  2020.0     7+   1h 40m   \n",
      "4     STAND BY ME Doraemon 2  2020.0     7+   1h 37m   \n",
      "...                      ...     ...    ...      ...   \n",
      "8855                 Zinzana  2015.0    10+   90 min   \n",
      "8856                  Zodiac  2007.0    18+  131 min   \n",
      "8857              Zombieland  2009.0    18+  114 min   \n",
      "8858                    Zoom  2006.0    15+  107 min   \n",
      "8859                  Zubaan  2015.0    14+   97 min   \n",
      "\n",
      "                                          CateAllory  \n",
      "0                               Kids & Family Movies  \n",
      "1                               Kids & Family Movies  \n",
      "2                               Kids & Family Movies  \n",
      "3                               Kids & Family Movies  \n",
      "4                               Kids & Family Movies  \n",
      "...                                              ...  \n",
      "8855         Dramas, International Movies, Thrillers  \n",
      "8856                  Cult Movies, Dramas, Thrillers  \n",
      "8857                         Comedies, Horror Movies  \n",
      "8858              Children & Family Movies, Comedies  \n",
      "8859  Dramas, International Movies, Music & Musicals  \n",
      "\n",
      "[8860 rows x 5 columns]\n"
     ]
    }
   ],
   "source": [
    "import pandas as pd\n",
    "import matplotlib.animation as animation\n",
    "import numpy as np\n",
    "import matplotlib.pyplot as plt\n",
    "import scipy.stats as stats\n",
    "import warnings\n",
    "warnings.filterwarnings('ignore')\n",
    "\n",
    "\n",
    "df = pd.read_csv(\"netflix2.csv\")\n",
    "print(df)"
   ]
  },
  {
   "cell_type": "markdown",
   "id": "a548695f",
   "metadata": {},
   "source": [
    "# Data Cleaning and Transformation"
   ]
  },
  {
   "cell_type": "code",
   "execution_count": 2,
   "id": "6f9ed53f",
   "metadata": {
    "scrolled": true
   },
   "outputs": [
    {
     "data": {
      "text/html": [
       "<div>\n",
       "<style scoped>\n",
       "    .dataframe tbody tr th:only-of-type {\n",
       "        vertical-align: middle;\n",
       "    }\n",
       "\n",
       "    .dataframe tbody tr th {\n",
       "        vertical-align: top;\n",
       "    }\n",
       "\n",
       "    .dataframe thead th {\n",
       "        text-align: right;\n",
       "    }\n",
       "</style>\n",
       "<table border=\"1\" class=\"dataframe\">\n",
       "  <thead>\n",
       "    <tr style=\"text-align: right;\">\n",
       "      <th></th>\n",
       "      <th>Name</th>\n",
       "      <th>Year</th>\n",
       "      <th>Rating</th>\n",
       "      <th>Duration</th>\n",
       "      <th>CateAllory</th>\n",
       "    </tr>\n",
       "  </thead>\n",
       "  <tbody>\n",
       "    <tr>\n",
       "      <th>0</th>\n",
       "      <td>The Sea Beast</td>\n",
       "      <td>2022.0</td>\n",
       "      <td>7</td>\n",
       "      <td>1h 59m</td>\n",
       "      <td>Kids &amp; Family Movies</td>\n",
       "    </tr>\n",
       "    <tr>\n",
       "      <th>1</th>\n",
       "      <td>Sonic the HedAllehoAll</td>\n",
       "      <td>2020.0</td>\n",
       "      <td>7</td>\n",
       "      <td>1h 41m</td>\n",
       "      <td>Kids &amp; Family Movies</td>\n",
       "    </tr>\n",
       "    <tr>\n",
       "      <th>2</th>\n",
       "      <td>Tom and Jerry</td>\n",
       "      <td>2021.0</td>\n",
       "      <td>7</td>\n",
       "      <td>1h 41m</td>\n",
       "      <td>Kids &amp; Family Movies</td>\n",
       "    </tr>\n",
       "    <tr>\n",
       "      <th>3</th>\n",
       "      <td>We Can Be Heroes</td>\n",
       "      <td>2020.0</td>\n",
       "      <td>7</td>\n",
       "      <td>1h 40m</td>\n",
       "      <td>Kids &amp; Family Movies</td>\n",
       "    </tr>\n",
       "    <tr>\n",
       "      <th>4</th>\n",
       "      <td>STAND BY ME Doraemon 2</td>\n",
       "      <td>2020.0</td>\n",
       "      <td>7</td>\n",
       "      <td>1h 37m</td>\n",
       "      <td>Kids &amp; Family Movies</td>\n",
       "    </tr>\n",
       "    <tr>\n",
       "      <th>...</th>\n",
       "      <td>...</td>\n",
       "      <td>...</td>\n",
       "      <td>...</td>\n",
       "      <td>...</td>\n",
       "      <td>...</td>\n",
       "    </tr>\n",
       "    <tr>\n",
       "      <th>8855</th>\n",
       "      <td>Zinzana</td>\n",
       "      <td>2015.0</td>\n",
       "      <td>10</td>\n",
       "      <td>90 min</td>\n",
       "      <td>Dramas, International Movies, Thrillers</td>\n",
       "    </tr>\n",
       "    <tr>\n",
       "      <th>8856</th>\n",
       "      <td>Zodiac</td>\n",
       "      <td>2007.0</td>\n",
       "      <td>18</td>\n",
       "      <td>131 min</td>\n",
       "      <td>Cult Movies, Dramas, Thrillers</td>\n",
       "    </tr>\n",
       "    <tr>\n",
       "      <th>8857</th>\n",
       "      <td>Zombieland</td>\n",
       "      <td>2009.0</td>\n",
       "      <td>18</td>\n",
       "      <td>114 min</td>\n",
       "      <td>Comedies, Horror Movies</td>\n",
       "    </tr>\n",
       "    <tr>\n",
       "      <th>8858</th>\n",
       "      <td>Zoom</td>\n",
       "      <td>2006.0</td>\n",
       "      <td>15</td>\n",
       "      <td>107 min</td>\n",
       "      <td>Children &amp; Family Movies, Comedies</td>\n",
       "    </tr>\n",
       "    <tr>\n",
       "      <th>8859</th>\n",
       "      <td>Zubaan</td>\n",
       "      <td>2015.0</td>\n",
       "      <td>14</td>\n",
       "      <td>97 min</td>\n",
       "      <td>Dramas, International Movies, Music &amp; Musicals</td>\n",
       "    </tr>\n",
       "  </tbody>\n",
       "</table>\n",
       "<p>8860 rows × 5 columns</p>\n",
       "</div>"
      ],
      "text/plain": [
       "                        Name    Year Rating Duration  \\\n",
       "0              The Sea Beast  2022.0      7   1h 59m   \n",
       "1     Sonic the HedAllehoAll  2020.0      7   1h 41m   \n",
       "2              Tom and Jerry  2021.0      7   1h 41m   \n",
       "3           We Can Be Heroes  2020.0      7   1h 40m   \n",
       "4     STAND BY ME Doraemon 2  2020.0      7   1h 37m   \n",
       "...                      ...     ...    ...      ...   \n",
       "8855                 Zinzana  2015.0     10   90 min   \n",
       "8856                  Zodiac  2007.0     18  131 min   \n",
       "8857              Zombieland  2009.0     18  114 min   \n",
       "8858                    Zoom  2006.0     15  107 min   \n",
       "8859                  Zubaan  2015.0     14   97 min   \n",
       "\n",
       "                                          CateAllory  \n",
       "0                               Kids & Family Movies  \n",
       "1                               Kids & Family Movies  \n",
       "2                               Kids & Family Movies  \n",
       "3                               Kids & Family Movies  \n",
       "4                               Kids & Family Movies  \n",
       "...                                              ...  \n",
       "8855         Dramas, International Movies, Thrillers  \n",
       "8856                  Cult Movies, Dramas, Thrillers  \n",
       "8857                         Comedies, Horror Movies  \n",
       "8858              Children & Family Movies, Comedies  \n",
       "8859  Dramas, International Movies, Music & Musicals  \n",
       "\n",
       "[8860 rows x 5 columns]"
      ]
     },
     "execution_count": 2,
     "metadata": {},
     "output_type": "execute_result"
    }
   ],
   "source": [
    "df[\"Rating\"]=df[\"Rating\"].str.replace(\"+\",\"\")\n",
    "df"
   ]
  },
  {
   "cell_type": "code",
   "execution_count": 3,
   "id": "562e6c74",
   "metadata": {
    "scrolled": true
   },
   "outputs": [
    {
     "data": {
      "text/html": [
       "<div>\n",
       "<style scoped>\n",
       "    .dataframe tbody tr th:only-of-type {\n",
       "        vertical-align: middle;\n",
       "    }\n",
       "\n",
       "    .dataframe tbody tr th {\n",
       "        vertical-align: top;\n",
       "    }\n",
       "\n",
       "    .dataframe thead th {\n",
       "        text-align: right;\n",
       "    }\n",
       "</style>\n",
       "<table border=\"1\" class=\"dataframe\">\n",
       "  <thead>\n",
       "    <tr style=\"text-align: right;\">\n",
       "      <th></th>\n",
       "      <th>Name</th>\n",
       "      <th>Year</th>\n",
       "      <th>Rating</th>\n",
       "      <th>Duration</th>\n",
       "      <th>CateAllory</th>\n",
       "      <th>Hour</th>\n",
       "      <th>Min</th>\n",
       "    </tr>\n",
       "  </thead>\n",
       "  <tbody>\n",
       "    <tr>\n",
       "      <th>0</th>\n",
       "      <td>The Sea Beast</td>\n",
       "      <td>2022.0</td>\n",
       "      <td>7</td>\n",
       "      <td>1h 59m</td>\n",
       "      <td>Kids &amp; Family Movies</td>\n",
       "      <td>1</td>\n",
       "      <td>59</td>\n",
       "    </tr>\n",
       "    <tr>\n",
       "      <th>1</th>\n",
       "      <td>Sonic the HedAllehoAll</td>\n",
       "      <td>2020.0</td>\n",
       "      <td>7</td>\n",
       "      <td>1h 41m</td>\n",
       "      <td>Kids &amp; Family Movies</td>\n",
       "      <td>1</td>\n",
       "      <td>41</td>\n",
       "    </tr>\n",
       "    <tr>\n",
       "      <th>2</th>\n",
       "      <td>Tom and Jerry</td>\n",
       "      <td>2021.0</td>\n",
       "      <td>7</td>\n",
       "      <td>1h 41m</td>\n",
       "      <td>Kids &amp; Family Movies</td>\n",
       "      <td>1</td>\n",
       "      <td>41</td>\n",
       "    </tr>\n",
       "    <tr>\n",
       "      <th>3</th>\n",
       "      <td>We Can Be Heroes</td>\n",
       "      <td>2020.0</td>\n",
       "      <td>7</td>\n",
       "      <td>1h 40m</td>\n",
       "      <td>Kids &amp; Family Movies</td>\n",
       "      <td>1</td>\n",
       "      <td>40</td>\n",
       "    </tr>\n",
       "    <tr>\n",
       "      <th>4</th>\n",
       "      <td>STAND BY ME Doraemon 2</td>\n",
       "      <td>2020.0</td>\n",
       "      <td>7</td>\n",
       "      <td>1h 37m</td>\n",
       "      <td>Kids &amp; Family Movies</td>\n",
       "      <td>1</td>\n",
       "      <td>37</td>\n",
       "    </tr>\n",
       "    <tr>\n",
       "      <th>...</th>\n",
       "      <td>...</td>\n",
       "      <td>...</td>\n",
       "      <td>...</td>\n",
       "      <td>...</td>\n",
       "      <td>...</td>\n",
       "      <td>...</td>\n",
       "      <td>...</td>\n",
       "    </tr>\n",
       "    <tr>\n",
       "      <th>8855</th>\n",
       "      <td>Zinzana</td>\n",
       "      <td>2015.0</td>\n",
       "      <td>10</td>\n",
       "      <td>90 min</td>\n",
       "      <td>Dramas, International Movies, Thrillers</td>\n",
       "      <td>0</td>\n",
       "      <td>90</td>\n",
       "    </tr>\n",
       "    <tr>\n",
       "      <th>8856</th>\n",
       "      <td>Zodiac</td>\n",
       "      <td>2007.0</td>\n",
       "      <td>18</td>\n",
       "      <td>131 min</td>\n",
       "      <td>Cult Movies, Dramas, Thrillers</td>\n",
       "      <td>0</td>\n",
       "      <td>131</td>\n",
       "    </tr>\n",
       "    <tr>\n",
       "      <th>8857</th>\n",
       "      <td>Zombieland</td>\n",
       "      <td>2009.0</td>\n",
       "      <td>18</td>\n",
       "      <td>114 min</td>\n",
       "      <td>Comedies, Horror Movies</td>\n",
       "      <td>0</td>\n",
       "      <td>114</td>\n",
       "    </tr>\n",
       "    <tr>\n",
       "      <th>8858</th>\n",
       "      <td>Zoom</td>\n",
       "      <td>2006.0</td>\n",
       "      <td>15</td>\n",
       "      <td>107 min</td>\n",
       "      <td>Children &amp; Family Movies, Comedies</td>\n",
       "      <td>0</td>\n",
       "      <td>107</td>\n",
       "    </tr>\n",
       "    <tr>\n",
       "      <th>8859</th>\n",
       "      <td>Zubaan</td>\n",
       "      <td>2015.0</td>\n",
       "      <td>14</td>\n",
       "      <td>97 min</td>\n",
       "      <td>Dramas, International Movies, Music &amp; Musicals</td>\n",
       "      <td>0</td>\n",
       "      <td>97</td>\n",
       "    </tr>\n",
       "  </tbody>\n",
       "</table>\n",
       "<p>8860 rows × 7 columns</p>\n",
       "</div>"
      ],
      "text/plain": [
       "                        Name    Year Rating Duration  \\\n",
       "0              The Sea Beast  2022.0      7   1h 59m   \n",
       "1     Sonic the HedAllehoAll  2020.0      7   1h 41m   \n",
       "2              Tom and Jerry  2021.0      7   1h 41m   \n",
       "3           We Can Be Heroes  2020.0      7   1h 40m   \n",
       "4     STAND BY ME Doraemon 2  2020.0      7   1h 37m   \n",
       "...                      ...     ...    ...      ...   \n",
       "8855                 Zinzana  2015.0     10   90 min   \n",
       "8856                  Zodiac  2007.0     18  131 min   \n",
       "8857              Zombieland  2009.0     18  114 min   \n",
       "8858                    Zoom  2006.0     15  107 min   \n",
       "8859                  Zubaan  2015.0     14   97 min   \n",
       "\n",
       "                                          CateAllory Hour  Min  \n",
       "0                               Kids & Family Movies    1   59  \n",
       "1                               Kids & Family Movies    1   41  \n",
       "2                               Kids & Family Movies    1   41  \n",
       "3                               Kids & Family Movies    1   40  \n",
       "4                               Kids & Family Movies    1   37  \n",
       "...                                              ...  ...  ...  \n",
       "8855         Dramas, International Movies, Thrillers    0   90  \n",
       "8856                  Cult Movies, Dramas, Thrillers    0  131  \n",
       "8857                         Comedies, Horror Movies    0  114  \n",
       "8858              Children & Family Movies, Comedies    0  107  \n",
       "8859  Dramas, International Movies, Music & Musicals    0   97  \n",
       "\n",
       "[8860 rows x 7 columns]"
      ]
     },
     "execution_count": 3,
     "metadata": {},
     "output_type": "execute_result"
    }
   ],
   "source": [
    "# Sorting and converting Duration column\n",
    "\n",
    "# Intialize columns\n",
    "df['Hour'] = \"\"\n",
    "df['Min'] = \"\"\n",
    "\n",
    "# list to distringuish which durations are in hour, min - and which are only in min\n",
    "duration_condition_hspace = pd.DataFrame(df['Duration'].str.contains('h '))\n",
    "duration_condition_h = pd.DataFrame(df['Duration'].str.contains('h'))\n",
    "duration_condition_m = pd.DataFrame(df['Duration'].str.contains('m'))\n",
    "duration_condition_min = pd.DataFrame(df['Duration'].str.contains('min'))\n",
    "\n",
    "# \n",
    "for i in range(len(df)):\n",
    "    if (duration_condition_h.loc[i,'Duration'] == True):\n",
    "        # copies just the first character, the number of hours\n",
    "        df.loc[i,'Hour'] = df.loc[i,'Duration'][0]\n",
    "    else:\n",
    "        df.loc[i,'Hour'] = '0'\n",
    "    \n",
    "        \n",
    "    if (duration_condition_m.loc[i,'Duration'] == True):\n",
    "        \n",
    "        if (duration_condition_min.loc[i,'Duration'] == True):\n",
    "            # copies the case of 'x min' with characters, need to remove later \n",
    "            df.loc[i,'Min'] = df.loc[i,'Duration']\n",
    "        else: \n",
    "            try:\n",
    "                # Copies the last 2 characters, negative indexed past the 'm'\n",
    "                df.loc[i,'Min'] = df.loc[i,'Duration'][-3] + df.loc[i,'Duration'][-2]\n",
    "            except IndexError:\n",
    "                # If there's nothing else to grab, ex. '4m' there's nothing more to index, just '4'\n",
    "                df.loc[i,'Min'] = df.loc[i,'Duration'][-2]\n",
    "    else:\n",
    "        df.loc[i,'Min'] = '0'\n",
    "                \n",
    "# deleting ' min' from the \"Min\" column with replace function\n",
    "df[\"Min\"] = df[\"Min\"].str.replace(\" min\",\"\")\n",
    "# deleting spaces in the \"Min\" column\n",
    "df[\"Min\"] = df['Min'].str.replace(\" \",\"\")\n",
    "\n",
    "# convert \"Hour\" and \"Min\" columns to integers \n",
    "\n",
    "df"
   ]
  },
  {
   "cell_type": "code",
   "execution_count": 4,
   "id": "9e760450",
   "metadata": {},
   "outputs": [
    {
     "data": {
      "text/plain": [
       "array(['59', '41', '40', '37', '36', '26', '35', '34', '20', '38', '42',\n",
       "       '33', '29', '39', '3', '32', '4', '30', '31', '49', '24', '44',\n",
       "       '43', '7', '22', '46', '0', '50', '27', '45', '58', '25', '9',\n",
       "       '13', '55', '47', '15', '8', '28', '5', '51', '57', '6', '2', '53',\n",
       "       '12', '23', '11', '10', '1', '18', '21', '48', '52', '14', '56',\n",
       "       '17', '19', '16', '54', '90', '91', '125', '104', '127', '67',\n",
       "       '94', '161', '61', '166', '147', '103', '97', '106', '111', '110',\n",
       "       '105', '96', '124', '116', '98', '115', '122', '99', '88', '100',\n",
       "       '102', '93', '95', '85', '83', '113', '182', '145', '87', '92',\n",
       "       '80', '117', '128', '119', '143', '114', '118', '108', '63', '121',\n",
       "       '142', '154', '120', '82', '109', '101', '86', '229', '76', '89',\n",
       "       '156', '112', '107', '129', '135', '136', '165', '150', '133',\n",
       "       '70', '84', '140', '78', '64', '139', '69', '148', '189', '141',\n",
       "       '130', '138', '81', '132', '123', '65', '68', '66', '62', '74',\n",
       "       '131', '126', '155', '159', '137', '273', '77', '60', '72', '204',\n",
       "       '212', '73', '71', '149', '224', '162', '75', '79', '158', '164',\n",
       "       '173', '181', '185', '151', '134', '177', '171', '146', '157',\n",
       "       '203', '194', '233', '237', '230', '195', '253', '152', '190',\n",
       "       '160', '208', '180', '144', '174', '170', '192', '209', '187',\n",
       "       '172', '186', '193', '176', '169', '168', '312', '153', '214',\n",
       "       '163'], dtype=object)"
      ]
     },
     "execution_count": 4,
     "metadata": {},
     "output_type": "execute_result"
    }
   ],
   "source": [
    "# df.loc[df['Min'].isna(),:]\n",
    "df['Min'].unique()"
   ]
  },
  {
   "cell_type": "code",
   "execution_count": 5,
   "id": "480f59f9",
   "metadata": {},
   "outputs": [],
   "source": [
    "# # Old version, kept just in case\n",
    "# df[\"Duration\"]=df[\"Duration\"].str.replace(\"h\",\"\")\n",
    "# df[\"Duration\"]=df[\"Duration\"].str.replace(\"m\",\"\")\n",
    "# df[\"Duration\"]=df[\"Duration\"].str.replace(\"min\",\"\")\n",
    "# df[\"Duration\"]=df[\"Duration\"].str.replace(\" in\",\"\")\n",
    "# df\n",
    "# # list to distringuish which durations are in hour, min - and which are only in min\n",
    "# duration_condition = pd.DataFrame(df['Duration'].str.contains(' '))\n",
    "# # loops through df, splits Duration column if in hour, min - otherwise just put duration in minutes\n",
    "# for i in range(len(df)):\n",
    "#     if (duration_condition.loc[i,'Duration'] == True):\n",
    "#         # df.loc[i,['Hour', 'Min']] = df.loc[i,'Duration'].str.split(' ', expand=True)\n",
    "#         df.loc[i,['Hour', 'Min']] = df.loc[i,'Duration'].split()\n",
    "#     else:\n",
    "#         df.loc[i,'Min'] = df.loc[i,'Duration']\n",
    "#         df.loc[i,'Hour'] = str(0)\n",
    "# df"
   ]
  },
  {
   "cell_type": "code",
   "execution_count": 6,
   "id": "48d4d3e1",
   "metadata": {},
   "outputs": [
    {
     "data": {
      "text/html": [
       "<div>\n",
       "<style scoped>\n",
       "    .dataframe tbody tr th:only-of-type {\n",
       "        vertical-align: middle;\n",
       "    }\n",
       "\n",
       "    .dataframe tbody tr th {\n",
       "        vertical-align: top;\n",
       "    }\n",
       "\n",
       "    .dataframe thead th {\n",
       "        text-align: right;\n",
       "    }\n",
       "</style>\n",
       "<table border=\"1\" class=\"dataframe\">\n",
       "  <thead>\n",
       "    <tr style=\"text-align: right;\">\n",
       "      <th></th>\n",
       "      <th>Name</th>\n",
       "      <th>Year</th>\n",
       "      <th>Rating</th>\n",
       "      <th>Duration</th>\n",
       "      <th>CateAllory</th>\n",
       "      <th>Hour</th>\n",
       "      <th>Min</th>\n",
       "    </tr>\n",
       "  </thead>\n",
       "  <tbody>\n",
       "    <tr>\n",
       "      <th>0</th>\n",
       "      <td>The Sea Beast</td>\n",
       "      <td>2022.0</td>\n",
       "      <td>7</td>\n",
       "      <td>1h 59m</td>\n",
       "      <td>Kids &amp; Family Movies</td>\n",
       "      <td>1</td>\n",
       "      <td>59</td>\n",
       "    </tr>\n",
       "    <tr>\n",
       "      <th>1</th>\n",
       "      <td>Sonic the HedAllehoAll</td>\n",
       "      <td>2020.0</td>\n",
       "      <td>7</td>\n",
       "      <td>1h 41m</td>\n",
       "      <td>Kids &amp; Family Movies</td>\n",
       "      <td>1</td>\n",
       "      <td>41</td>\n",
       "    </tr>\n",
       "    <tr>\n",
       "      <th>2</th>\n",
       "      <td>Tom and Jerry</td>\n",
       "      <td>2021.0</td>\n",
       "      <td>7</td>\n",
       "      <td>1h 41m</td>\n",
       "      <td>Kids &amp; Family Movies</td>\n",
       "      <td>1</td>\n",
       "      <td>41</td>\n",
       "    </tr>\n",
       "    <tr>\n",
       "      <th>3</th>\n",
       "      <td>We Can Be Heroes</td>\n",
       "      <td>2020.0</td>\n",
       "      <td>7</td>\n",
       "      <td>1h 40m</td>\n",
       "      <td>Kids &amp; Family Movies</td>\n",
       "      <td>1</td>\n",
       "      <td>40</td>\n",
       "    </tr>\n",
       "    <tr>\n",
       "      <th>4</th>\n",
       "      <td>STAND BY ME Doraemon 2</td>\n",
       "      <td>2020.0</td>\n",
       "      <td>7</td>\n",
       "      <td>1h 37m</td>\n",
       "      <td>Kids &amp; Family Movies</td>\n",
       "      <td>1</td>\n",
       "      <td>37</td>\n",
       "    </tr>\n",
       "    <tr>\n",
       "      <th>...</th>\n",
       "      <td>...</td>\n",
       "      <td>...</td>\n",
       "      <td>...</td>\n",
       "      <td>...</td>\n",
       "      <td>...</td>\n",
       "      <td>...</td>\n",
       "      <td>...</td>\n",
       "    </tr>\n",
       "    <tr>\n",
       "      <th>8855</th>\n",
       "      <td>Zinzana</td>\n",
       "      <td>2015.0</td>\n",
       "      <td>10</td>\n",
       "      <td>90 min</td>\n",
       "      <td>Dramas, International Movies, Thrillers</td>\n",
       "      <td>0</td>\n",
       "      <td>90</td>\n",
       "    </tr>\n",
       "    <tr>\n",
       "      <th>8856</th>\n",
       "      <td>Zodiac</td>\n",
       "      <td>2007.0</td>\n",
       "      <td>18</td>\n",
       "      <td>131 min</td>\n",
       "      <td>Cult Movies, Dramas, Thrillers</td>\n",
       "      <td>0</td>\n",
       "      <td>131</td>\n",
       "    </tr>\n",
       "    <tr>\n",
       "      <th>8857</th>\n",
       "      <td>Zombieland</td>\n",
       "      <td>2009.0</td>\n",
       "      <td>18</td>\n",
       "      <td>114 min</td>\n",
       "      <td>Comedies, Horror Movies</td>\n",
       "      <td>0</td>\n",
       "      <td>114</td>\n",
       "    </tr>\n",
       "    <tr>\n",
       "      <th>8858</th>\n",
       "      <td>Zoom</td>\n",
       "      <td>2006.0</td>\n",
       "      <td>15</td>\n",
       "      <td>107 min</td>\n",
       "      <td>Children &amp; Family Movies, Comedies</td>\n",
       "      <td>0</td>\n",
       "      <td>107</td>\n",
       "    </tr>\n",
       "    <tr>\n",
       "      <th>8859</th>\n",
       "      <td>Zubaan</td>\n",
       "      <td>2015.0</td>\n",
       "      <td>14</td>\n",
       "      <td>97 min</td>\n",
       "      <td>Dramas, International Movies, Music &amp; Musicals</td>\n",
       "      <td>0</td>\n",
       "      <td>97</td>\n",
       "    </tr>\n",
       "  </tbody>\n",
       "</table>\n",
       "<p>8855 rows × 7 columns</p>\n",
       "</div>"
      ],
      "text/plain": [
       "                        Name    Year Rating Duration  \\\n",
       "0              The Sea Beast  2022.0      7   1h 59m   \n",
       "1     Sonic the HedAllehoAll  2020.0      7   1h 41m   \n",
       "2              Tom and Jerry  2021.0      7   1h 41m   \n",
       "3           We Can Be Heroes  2020.0      7   1h 40m   \n",
       "4     STAND BY ME Doraemon 2  2020.0      7   1h 37m   \n",
       "...                      ...     ...    ...      ...   \n",
       "8855                 Zinzana  2015.0     10   90 min   \n",
       "8856                  Zodiac  2007.0     18  131 min   \n",
       "8857              Zombieland  2009.0     18  114 min   \n",
       "8858                    Zoom  2006.0     15  107 min   \n",
       "8859                  Zubaan  2015.0     14   97 min   \n",
       "\n",
       "                                          CateAllory Hour  Min  \n",
       "0                               Kids & Family Movies    1   59  \n",
       "1                               Kids & Family Movies    1   41  \n",
       "2                               Kids & Family Movies    1   41  \n",
       "3                               Kids & Family Movies    1   40  \n",
       "4                               Kids & Family Movies    1   37  \n",
       "...                                              ...  ...  ...  \n",
       "8855         Dramas, International Movies, Thrillers    0   90  \n",
       "8856                  Cult Movies, Dramas, Thrillers    0  131  \n",
       "8857                         Comedies, Horror Movies    0  114  \n",
       "8858              Children & Family Movies, Comedies    0  107  \n",
       "8859  Dramas, International Movies, Music & Musicals    0   97  \n",
       "\n",
       "[8855 rows x 7 columns]"
      ]
     },
     "execution_count": 6,
     "metadata": {},
     "output_type": "execute_result"
    }
   ],
   "source": [
    "df= df.drop(df[df['Duration']=='1 Season'].index)\n",
    "df= df.drop(df[df['Duration']==''].index)\n",
    "df"
   ]
  },
  {
   "cell_type": "code",
   "execution_count": 7,
   "id": "95ba34c7-9d55-48ab-869f-873d5987b151",
   "metadata": {},
   "outputs": [
    {
     "data": {
      "text/html": [
       "<div>\n",
       "<style scoped>\n",
       "    .dataframe tbody tr th:only-of-type {\n",
       "        vertical-align: middle;\n",
       "    }\n",
       "\n",
       "    .dataframe tbody tr th {\n",
       "        vertical-align: top;\n",
       "    }\n",
       "\n",
       "    .dataframe thead th {\n",
       "        text-align: right;\n",
       "    }\n",
       "</style>\n",
       "<table border=\"1\" class=\"dataframe\">\n",
       "  <thead>\n",
       "    <tr style=\"text-align: right;\">\n",
       "      <th></th>\n",
       "      <th>Name</th>\n",
       "      <th>Year</th>\n",
       "      <th>Rating</th>\n",
       "      <th>Duration</th>\n",
       "      <th>CateAllory</th>\n",
       "      <th>Hour</th>\n",
       "      <th>Min</th>\n",
       "    </tr>\n",
       "  </thead>\n",
       "  <tbody>\n",
       "    <tr>\n",
       "      <th>0</th>\n",
       "      <td>The Sea Beast</td>\n",
       "      <td>2022.0</td>\n",
       "      <td>7</td>\n",
       "      <td>1h 59m</td>\n",
       "      <td>Kids &amp; Family Movies</td>\n",
       "      <td>1</td>\n",
       "      <td>59</td>\n",
       "    </tr>\n",
       "    <tr>\n",
       "      <th>1</th>\n",
       "      <td>Sonic the HedAllehoAll</td>\n",
       "      <td>2020.0</td>\n",
       "      <td>7</td>\n",
       "      <td>1h 41m</td>\n",
       "      <td>Kids &amp; Family Movies</td>\n",
       "      <td>1</td>\n",
       "      <td>41</td>\n",
       "    </tr>\n",
       "    <tr>\n",
       "      <th>2</th>\n",
       "      <td>Tom and Jerry</td>\n",
       "      <td>2021.0</td>\n",
       "      <td>7</td>\n",
       "      <td>1h 41m</td>\n",
       "      <td>Kids &amp; Family Movies</td>\n",
       "      <td>1</td>\n",
       "      <td>41</td>\n",
       "    </tr>\n",
       "    <tr>\n",
       "      <th>3</th>\n",
       "      <td>We Can Be Heroes</td>\n",
       "      <td>2020.0</td>\n",
       "      <td>7</td>\n",
       "      <td>1h 40m</td>\n",
       "      <td>Kids &amp; Family Movies</td>\n",
       "      <td>1</td>\n",
       "      <td>40</td>\n",
       "    </tr>\n",
       "    <tr>\n",
       "      <th>4</th>\n",
       "      <td>STAND BY ME Doraemon 2</td>\n",
       "      <td>2020.0</td>\n",
       "      <td>7</td>\n",
       "      <td>1h 37m</td>\n",
       "      <td>Kids &amp; Family Movies</td>\n",
       "      <td>1</td>\n",
       "      <td>37</td>\n",
       "    </tr>\n",
       "    <tr>\n",
       "      <th>...</th>\n",
       "      <td>...</td>\n",
       "      <td>...</td>\n",
       "      <td>...</td>\n",
       "      <td>...</td>\n",
       "      <td>...</td>\n",
       "      <td>...</td>\n",
       "      <td>...</td>\n",
       "    </tr>\n",
       "    <tr>\n",
       "      <th>8855</th>\n",
       "      <td>Zinzana</td>\n",
       "      <td>2015.0</td>\n",
       "      <td>10</td>\n",
       "      <td>90 min</td>\n",
       "      <td>Dramas, International Movies, Thrillers</td>\n",
       "      <td>0</td>\n",
       "      <td>90</td>\n",
       "    </tr>\n",
       "    <tr>\n",
       "      <th>8856</th>\n",
       "      <td>Zodiac</td>\n",
       "      <td>2007.0</td>\n",
       "      <td>18</td>\n",
       "      <td>131 min</td>\n",
       "      <td>Cult Movies, Dramas, Thrillers</td>\n",
       "      <td>0</td>\n",
       "      <td>131</td>\n",
       "    </tr>\n",
       "    <tr>\n",
       "      <th>8857</th>\n",
       "      <td>Zombieland</td>\n",
       "      <td>2009.0</td>\n",
       "      <td>18</td>\n",
       "      <td>114 min</td>\n",
       "      <td>Comedies, Horror Movies</td>\n",
       "      <td>0</td>\n",
       "      <td>114</td>\n",
       "    </tr>\n",
       "    <tr>\n",
       "      <th>8858</th>\n",
       "      <td>Zoom</td>\n",
       "      <td>2006.0</td>\n",
       "      <td>15</td>\n",
       "      <td>107 min</td>\n",
       "      <td>Children &amp; Family Movies, Comedies</td>\n",
       "      <td>0</td>\n",
       "      <td>107</td>\n",
       "    </tr>\n",
       "    <tr>\n",
       "      <th>8859</th>\n",
       "      <td>Zubaan</td>\n",
       "      <td>2015.0</td>\n",
       "      <td>14</td>\n",
       "      <td>97 min</td>\n",
       "      <td>Dramas, International Movies, Music &amp; Musicals</td>\n",
       "      <td>0</td>\n",
       "      <td>97</td>\n",
       "    </tr>\n",
       "  </tbody>\n",
       "</table>\n",
       "<p>8829 rows × 7 columns</p>\n",
       "</div>"
      ],
      "text/plain": [
       "                        Name    Year Rating Duration  \\\n",
       "0              The Sea Beast  2022.0      7   1h 59m   \n",
       "1     Sonic the HedAllehoAll  2020.0      7   1h 41m   \n",
       "2              Tom and Jerry  2021.0      7   1h 41m   \n",
       "3           We Can Be Heroes  2020.0      7   1h 40m   \n",
       "4     STAND BY ME Doraemon 2  2020.0      7   1h 37m   \n",
       "...                      ...     ...    ...      ...   \n",
       "8855                 Zinzana  2015.0     10   90 min   \n",
       "8856                  Zodiac  2007.0     18  131 min   \n",
       "8857              Zombieland  2009.0     18  114 min   \n",
       "8858                    Zoom  2006.0     15  107 min   \n",
       "8859                  Zubaan  2015.0     14   97 min   \n",
       "\n",
       "                                          CateAllory Hour  Min  \n",
       "0                               Kids & Family Movies    1   59  \n",
       "1                               Kids & Family Movies    1   41  \n",
       "2                               Kids & Family Movies    1   41  \n",
       "3                               Kids & Family Movies    1   40  \n",
       "4                               Kids & Family Movies    1   37  \n",
       "...                                              ...  ...  ...  \n",
       "8855         Dramas, International Movies, Thrillers    0   90  \n",
       "8856                  Cult Movies, Dramas, Thrillers    0  131  \n",
       "8857                         Comedies, Horror Movies    0  114  \n",
       "8858              Children & Family Movies, Comedies    0  107  \n",
       "8859  Dramas, International Movies, Music & Musicals    0   97  \n",
       "\n",
       "[8829 rows x 7 columns]"
      ]
     },
     "execution_count": 7,
     "metadata": {},
     "output_type": "execute_result"
    }
   ],
   "source": [
    "df.dropna(inplace=True)\n",
    "# #axis='index'\n",
    "df"
   ]
  },
  {
   "cell_type": "code",
   "execution_count": 8,
   "id": "7819395e",
   "metadata": {},
   "outputs": [
    {
     "data": {
      "text/plain": [
       "array(['7', 'All', '16', '13', '18', '12', '14', '10', 'TV-All', 'NC-17',\n",
       "       'NR', '15'], dtype=object)"
      ]
     },
     "execution_count": 8,
     "metadata": {},
     "output_type": "execute_result"
    }
   ],
   "source": [
    "df = df[~df['Rating'].isin([\"77\", \"74 min\",\"84 min\", \"66 min\"])]\n",
    "df[\"Rating\"].unique()\n",
    "# NC-17 same as R rating, "
   ]
  },
  {
   "cell_type": "code",
   "execution_count": 9,
   "id": "f20a9e33-28d1-44e8-a01f-6879827861d6",
   "metadata": {},
   "outputs": [
    {
     "data": {
      "text/plain": [
       "0       2022\n",
       "1       2020\n",
       "2       2021\n",
       "3       2020\n",
       "4       2020\n",
       "        ... \n",
       "8855    2015\n",
       "8856    2007\n",
       "8857    2009\n",
       "8858    2006\n",
       "8859    2015\n",
       "Name: Year, Length: 8709, dtype: Int64"
      ]
     },
     "execution_count": 9,
     "metadata": {},
     "output_type": "execute_result"
    }
   ],
   "source": [
    "df['Year'] = pd.to_numeric(df['Year'])\n",
    "# df['Year'].astype(int)\n",
    "df['Year'] = df['Year'].round().astype('Int64')\n",
    "\n",
    "df['Year']"
   ]
  },
  {
   "cell_type": "code",
   "execution_count": 10,
   "id": "8375340d",
   "metadata": {
    "scrolled": true
   },
   "outputs": [
    {
     "data": {
      "text/plain": [
       "Name          object\n",
       "Year           Int64\n",
       "Rating        object\n",
       "Duration      object\n",
       "CateAllory    object\n",
       "Hour           int64\n",
       "Min           object\n",
       "dtype: object"
      ]
     },
     "execution_count": 10,
     "metadata": {},
     "output_type": "execute_result"
    }
   ],
   "source": [
    "df['Hour'] = pd.to_numeric(df['Hour'])\n",
    "df.dtypes"
   ]
  },
  {
   "cell_type": "code",
   "execution_count": 11,
   "id": "aa23ee5a",
   "metadata": {},
   "outputs": [
    {
     "data": {
      "text/plain": [
       "Name          object\n",
       "Year           Int64\n",
       "Rating        object\n",
       "Duration      object\n",
       "CateAllory    object\n",
       "Hour           int64\n",
       "Min            int64\n",
       "dtype: object"
      ]
     },
     "execution_count": 11,
     "metadata": {},
     "output_type": "execute_result"
    }
   ],
   "source": [
    "df['Min'] = pd.to_numeric(df['Min'])\n",
    "# df['Min'] = df['Min'].round().astype('Int64')\n",
    "# df['Min'] = df['Min'].apply(pd.to_numeric, errors='coerce')\n",
    "df.dtypes"
   ]
  },
  {
   "cell_type": "code",
   "execution_count": 12,
   "id": "db1f1fd1",
   "metadata": {},
   "outputs": [],
   "source": [
    "# df.loc[df['Min'].isna(),:]"
   ]
  },
  {
   "cell_type": "code",
   "execution_count": 13,
   "id": "2db46d90-dc59-456a-babc-fa7605937dd3",
   "metadata": {},
   "outputs": [
    {
     "data": {
      "text/html": [
       "<div>\n",
       "<style scoped>\n",
       "    .dataframe tbody tr th:only-of-type {\n",
       "        vertical-align: middle;\n",
       "    }\n",
       "\n",
       "    .dataframe tbody tr th {\n",
       "        vertical-align: top;\n",
       "    }\n",
       "\n",
       "    .dataframe thead th {\n",
       "        text-align: right;\n",
       "    }\n",
       "</style>\n",
       "<table border=\"1\" class=\"dataframe\">\n",
       "  <thead>\n",
       "    <tr style=\"text-align: right;\">\n",
       "      <th></th>\n",
       "      <th>Name</th>\n",
       "      <th>Year</th>\n",
       "      <th>Rating</th>\n",
       "      <th>Duration</th>\n",
       "      <th>CateAllory</th>\n",
       "      <th>Hour</th>\n",
       "      <th>Min</th>\n",
       "      <th>Total Duration</th>\n",
       "    </tr>\n",
       "  </thead>\n",
       "  <tbody>\n",
       "    <tr>\n",
       "      <th>0</th>\n",
       "      <td>The Sea Beast</td>\n",
       "      <td>2022</td>\n",
       "      <td>7</td>\n",
       "      <td>1h 59m</td>\n",
       "      <td>Kids &amp; Family Movies</td>\n",
       "      <td>1</td>\n",
       "      <td>59</td>\n",
       "      <td>119</td>\n",
       "    </tr>\n",
       "    <tr>\n",
       "      <th>1</th>\n",
       "      <td>Sonic the HedAllehoAll</td>\n",
       "      <td>2020</td>\n",
       "      <td>7</td>\n",
       "      <td>1h 41m</td>\n",
       "      <td>Kids &amp; Family Movies</td>\n",
       "      <td>1</td>\n",
       "      <td>41</td>\n",
       "      <td>101</td>\n",
       "    </tr>\n",
       "    <tr>\n",
       "      <th>2</th>\n",
       "      <td>Tom and Jerry</td>\n",
       "      <td>2021</td>\n",
       "      <td>7</td>\n",
       "      <td>1h 41m</td>\n",
       "      <td>Kids &amp; Family Movies</td>\n",
       "      <td>1</td>\n",
       "      <td>41</td>\n",
       "      <td>101</td>\n",
       "    </tr>\n",
       "    <tr>\n",
       "      <th>3</th>\n",
       "      <td>We Can Be Heroes</td>\n",
       "      <td>2020</td>\n",
       "      <td>7</td>\n",
       "      <td>1h 40m</td>\n",
       "      <td>Kids &amp; Family Movies</td>\n",
       "      <td>1</td>\n",
       "      <td>40</td>\n",
       "      <td>100</td>\n",
       "    </tr>\n",
       "    <tr>\n",
       "      <th>4</th>\n",
       "      <td>STAND BY ME Doraemon 2</td>\n",
       "      <td>2020</td>\n",
       "      <td>7</td>\n",
       "      <td>1h 37m</td>\n",
       "      <td>Kids &amp; Family Movies</td>\n",
       "      <td>1</td>\n",
       "      <td>37</td>\n",
       "      <td>97</td>\n",
       "    </tr>\n",
       "    <tr>\n",
       "      <th>...</th>\n",
       "      <td>...</td>\n",
       "      <td>...</td>\n",
       "      <td>...</td>\n",
       "      <td>...</td>\n",
       "      <td>...</td>\n",
       "      <td>...</td>\n",
       "      <td>...</td>\n",
       "      <td>...</td>\n",
       "    </tr>\n",
       "    <tr>\n",
       "      <th>8855</th>\n",
       "      <td>Zinzana</td>\n",
       "      <td>2015</td>\n",
       "      <td>10</td>\n",
       "      <td>90 min</td>\n",
       "      <td>Dramas, International Movies, Thrillers</td>\n",
       "      <td>0</td>\n",
       "      <td>90</td>\n",
       "      <td>90</td>\n",
       "    </tr>\n",
       "    <tr>\n",
       "      <th>8856</th>\n",
       "      <td>Zodiac</td>\n",
       "      <td>2007</td>\n",
       "      <td>18</td>\n",
       "      <td>131 min</td>\n",
       "      <td>Cult Movies, Dramas, Thrillers</td>\n",
       "      <td>0</td>\n",
       "      <td>131</td>\n",
       "      <td>131</td>\n",
       "    </tr>\n",
       "    <tr>\n",
       "      <th>8857</th>\n",
       "      <td>Zombieland</td>\n",
       "      <td>2009</td>\n",
       "      <td>18</td>\n",
       "      <td>114 min</td>\n",
       "      <td>Comedies, Horror Movies</td>\n",
       "      <td>0</td>\n",
       "      <td>114</td>\n",
       "      <td>114</td>\n",
       "    </tr>\n",
       "    <tr>\n",
       "      <th>8858</th>\n",
       "      <td>Zoom</td>\n",
       "      <td>2006</td>\n",
       "      <td>15</td>\n",
       "      <td>107 min</td>\n",
       "      <td>Children &amp; Family Movies, Comedies</td>\n",
       "      <td>0</td>\n",
       "      <td>107</td>\n",
       "      <td>107</td>\n",
       "    </tr>\n",
       "    <tr>\n",
       "      <th>8859</th>\n",
       "      <td>Zubaan</td>\n",
       "      <td>2015</td>\n",
       "      <td>14</td>\n",
       "      <td>97 min</td>\n",
       "      <td>Dramas, International Movies, Music &amp; Musicals</td>\n",
       "      <td>0</td>\n",
       "      <td>97</td>\n",
       "      <td>97</td>\n",
       "    </tr>\n",
       "  </tbody>\n",
       "</table>\n",
       "<p>8709 rows × 8 columns</p>\n",
       "</div>"
      ],
      "text/plain": [
       "                        Name  Year Rating Duration  \\\n",
       "0              The Sea Beast  2022      7   1h 59m   \n",
       "1     Sonic the HedAllehoAll  2020      7   1h 41m   \n",
       "2              Tom and Jerry  2021      7   1h 41m   \n",
       "3           We Can Be Heroes  2020      7   1h 40m   \n",
       "4     STAND BY ME Doraemon 2  2020      7   1h 37m   \n",
       "...                      ...   ...    ...      ...   \n",
       "8855                 Zinzana  2015     10   90 min   \n",
       "8856                  Zodiac  2007     18  131 min   \n",
       "8857              Zombieland  2009     18  114 min   \n",
       "8858                    Zoom  2006     15  107 min   \n",
       "8859                  Zubaan  2015     14   97 min   \n",
       "\n",
       "                                          CateAllory  Hour  Min  \\\n",
       "0                               Kids & Family Movies     1   59   \n",
       "1                               Kids & Family Movies     1   41   \n",
       "2                               Kids & Family Movies     1   41   \n",
       "3                               Kids & Family Movies     1   40   \n",
       "4                               Kids & Family Movies     1   37   \n",
       "...                                              ...   ...  ...   \n",
       "8855         Dramas, International Movies, Thrillers     0   90   \n",
       "8856                  Cult Movies, Dramas, Thrillers     0  131   \n",
       "8857                         Comedies, Horror Movies     0  114   \n",
       "8858              Children & Family Movies, Comedies     0  107   \n",
       "8859  Dramas, International Movies, Music & Musicals     0   97   \n",
       "\n",
       "      Total Duration  \n",
       "0                119  \n",
       "1                101  \n",
       "2                101  \n",
       "3                100  \n",
       "4                 97  \n",
       "...              ...  \n",
       "8855              90  \n",
       "8856             131  \n",
       "8857             114  \n",
       "8858             107  \n",
       "8859              97  \n",
       "\n",
       "[8709 rows x 8 columns]"
      ]
     },
     "execution_count": 13,
     "metadata": {},
     "output_type": "execute_result"
    }
   ],
   "source": [
    "# Consolidating hours and minutes into a single 'Total Duration' in minutes\n",
    "df['Total Duration'] = df['Hour']*60 + df['Min']\n",
    "# df['Total Duration'] = pd.to_numeric(df['Total Duration'])\n",
    "# df = df['Total Duration'].astype('int')\n",
    "df"
   ]
  },
  {
   "cell_type": "code",
   "execution_count": 14,
   "id": "3cfbf99f-febc-4aaa-8493-e25795e201a5",
   "metadata": {},
   "outputs": [
    {
     "data": {
      "text/html": [
       "<div>\n",
       "<style scoped>\n",
       "    .dataframe tbody tr th:only-of-type {\n",
       "        vertical-align: middle;\n",
       "    }\n",
       "\n",
       "    .dataframe tbody tr th {\n",
       "        vertical-align: top;\n",
       "    }\n",
       "\n",
       "    .dataframe thead th {\n",
       "        text-align: right;\n",
       "    }\n",
       "</style>\n",
       "<table border=\"1\" class=\"dataframe\">\n",
       "  <thead>\n",
       "    <tr style=\"text-align: right;\">\n",
       "      <th></th>\n",
       "      <th>Name</th>\n",
       "      <th>Year</th>\n",
       "      <th>Rating</th>\n",
       "      <th>Duration</th>\n",
       "      <th>CateAllory</th>\n",
       "      <th>Hour</th>\n",
       "      <th>Min</th>\n",
       "      <th>Total Duration</th>\n",
       "    </tr>\n",
       "  </thead>\n",
       "  <tbody>\n",
       "    <tr>\n",
       "      <th>40</th>\n",
       "      <td>Inside the Mind of a Cat</td>\n",
       "      <td>2022</td>\n",
       "      <td>7</td>\n",
       "      <td>1h 7m</td>\n",
       "      <td>Kids &amp; Family Movies</td>\n",
       "      <td>1</td>\n",
       "      <td>7</td>\n",
       "      <td>67</td>\n",
       "    </tr>\n",
       "    <tr>\n",
       "      <th>45</th>\n",
       "      <td>Larva Pendant</td>\n",
       "      <td>2022</td>\n",
       "      <td>7</td>\n",
       "      <td>33m</td>\n",
       "      <td>Kids &amp; Family Movies</td>\n",
       "      <td>0</td>\n",
       "      <td>33</td>\n",
       "      <td>33</td>\n",
       "    </tr>\n",
       "    <tr>\n",
       "      <th>47</th>\n",
       "      <td>My Little Pony: A New Alleneration: SinAll-Alo...</td>\n",
       "      <td>2022</td>\n",
       "      <td>7</td>\n",
       "      <td>1h 30m</td>\n",
       "      <td>Kids &amp; Family Movies</td>\n",
       "      <td>1</td>\n",
       "      <td>30</td>\n",
       "      <td>90</td>\n",
       "    </tr>\n",
       "    <tr>\n",
       "      <th>48</th>\n",
       "      <td>Chip and Potato: Chip’s Holiday</td>\n",
       "      <td>2022</td>\n",
       "      <td>All</td>\n",
       "      <td>24m</td>\n",
       "      <td>Kids &amp; Family Movies</td>\n",
       "      <td>0</td>\n",
       "      <td>24</td>\n",
       "      <td>24</td>\n",
       "    </tr>\n",
       "    <tr>\n",
       "      <th>50</th>\n",
       "      <td>Rescued by Ruby</td>\n",
       "      <td>2022</td>\n",
       "      <td>7</td>\n",
       "      <td>1h 33m</td>\n",
       "      <td>Kids &amp; Family Movies</td>\n",
       "      <td>1</td>\n",
       "      <td>33</td>\n",
       "      <td>93</td>\n",
       "    </tr>\n",
       "    <tr>\n",
       "      <th>...</th>\n",
       "      <td>...</td>\n",
       "      <td>...</td>\n",
       "      <td>...</td>\n",
       "      <td>...</td>\n",
       "      <td>...</td>\n",
       "      <td>...</td>\n",
       "      <td>...</td>\n",
       "      <td>...</td>\n",
       "    </tr>\n",
       "    <tr>\n",
       "      <th>8854</th>\n",
       "      <td>Zenda</td>\n",
       "      <td>2009</td>\n",
       "      <td>10</td>\n",
       "      <td>93 min</td>\n",
       "      <td>Dramas, International Movies</td>\n",
       "      <td>0</td>\n",
       "      <td>93</td>\n",
       "      <td>93</td>\n",
       "    </tr>\n",
       "    <tr>\n",
       "      <th>8855</th>\n",
       "      <td>Zinzana</td>\n",
       "      <td>2015</td>\n",
       "      <td>10</td>\n",
       "      <td>90 min</td>\n",
       "      <td>Dramas, International Movies, Thrillers</td>\n",
       "      <td>0</td>\n",
       "      <td>90</td>\n",
       "      <td>90</td>\n",
       "    </tr>\n",
       "    <tr>\n",
       "      <th>8857</th>\n",
       "      <td>Zombieland</td>\n",
       "      <td>2009</td>\n",
       "      <td>18</td>\n",
       "      <td>114 min</td>\n",
       "      <td>Comedies, Horror Movies</td>\n",
       "      <td>0</td>\n",
       "      <td>114</td>\n",
       "      <td>114</td>\n",
       "    </tr>\n",
       "    <tr>\n",
       "      <th>8858</th>\n",
       "      <td>Zoom</td>\n",
       "      <td>2006</td>\n",
       "      <td>15</td>\n",
       "      <td>107 min</td>\n",
       "      <td>Children &amp; Family Movies, Comedies</td>\n",
       "      <td>0</td>\n",
       "      <td>107</td>\n",
       "      <td>107</td>\n",
       "    </tr>\n",
       "    <tr>\n",
       "      <th>8859</th>\n",
       "      <td>Zubaan</td>\n",
       "      <td>2015</td>\n",
       "      <td>14</td>\n",
       "      <td>97 min</td>\n",
       "      <td>Dramas, International Movies, Music &amp; Musicals</td>\n",
       "      <td>0</td>\n",
       "      <td>97</td>\n",
       "      <td>97</td>\n",
       "    </tr>\n",
       "  </tbody>\n",
       "</table>\n",
       "<p>5392 rows × 8 columns</p>\n",
       "</div>"
      ],
      "text/plain": [
       "                                                   Name  Year Rating Duration  \\\n",
       "40                             Inside the Mind of a Cat  2022      7    1h 7m   \n",
       "45                                        Larva Pendant  2022      7      33m   \n",
       "47    My Little Pony: A New Alleneration: SinAll-Alo...  2022      7   1h 30m   \n",
       "48                      Chip and Potato: Chip’s Holiday  2022    All      24m   \n",
       "50                                      Rescued by Ruby  2022      7   1h 33m   \n",
       "...                                                 ...   ...    ...      ...   \n",
       "8854                                              Zenda  2009     10   93 min   \n",
       "8855                                            Zinzana  2015     10   90 min   \n",
       "8857                                         Zombieland  2009     18  114 min   \n",
       "8858                                               Zoom  2006     15  107 min   \n",
       "8859                                             Zubaan  2015     14   97 min   \n",
       "\n",
       "                                          CateAllory  Hour  Min  \\\n",
       "40                              Kids & Family Movies     1    7   \n",
       "45                              Kids & Family Movies     0   33   \n",
       "47                              Kids & Family Movies     1   30   \n",
       "48                              Kids & Family Movies     0   24   \n",
       "50                              Kids & Family Movies     1   33   \n",
       "...                                              ...   ...  ...   \n",
       "8854                    Dramas, International Movies     0   93   \n",
       "8855         Dramas, International Movies, Thrillers     0   90   \n",
       "8857                         Comedies, Horror Movies     0  114   \n",
       "8858              Children & Family Movies, Comedies     0  107   \n",
       "8859  Dramas, International Movies, Music & Musicals     0   97   \n",
       "\n",
       "      Total Duration  \n",
       "40                67  \n",
       "45                33  \n",
       "47                90  \n",
       "48                24  \n",
       "50                93  \n",
       "...              ...  \n",
       "8854              93  \n",
       "8855              90  \n",
       "8857             114  \n",
       "8858             107  \n",
       "8859              97  \n",
       "\n",
       "[5392 rows x 8 columns]"
      ]
     },
     "execution_count": 14,
     "metadata": {},
     "output_type": "execute_result"
    }
   ],
   "source": [
    "df_final = df.drop_duplicates(subset='Name', keep=False)\n",
    "df_final"
   ]
  },
  {
   "cell_type": "code",
   "execution_count": 15,
   "id": "48ce8447-82cb-4905-aaf6-af1ecb10f5b6",
   "metadata": {},
   "outputs": [
    {
     "data": {
      "text/html": [
       "<div>\n",
       "<style scoped>\n",
       "    .dataframe tbody tr th:only-of-type {\n",
       "        vertical-align: middle;\n",
       "    }\n",
       "\n",
       "    .dataframe tbody tr th {\n",
       "        vertical-align: top;\n",
       "    }\n",
       "\n",
       "    .dataframe thead th {\n",
       "        text-align: right;\n",
       "    }\n",
       "</style>\n",
       "<table border=\"1\" class=\"dataframe\">\n",
       "  <thead>\n",
       "    <tr style=\"text-align: right;\">\n",
       "      <th></th>\n",
       "      <th>Name</th>\n",
       "      <th>Year</th>\n",
       "      <th>Rating</th>\n",
       "      <th>Category</th>\n",
       "      <th>Duration (Min)</th>\n",
       "    </tr>\n",
       "  </thead>\n",
       "  <tbody>\n",
       "    <tr>\n",
       "      <th>40</th>\n",
       "      <td>Inside the Mind of a Cat</td>\n",
       "      <td>2022</td>\n",
       "      <td>7</td>\n",
       "      <td>Kids &amp; Family Movies</td>\n",
       "      <td>67</td>\n",
       "    </tr>\n",
       "    <tr>\n",
       "      <th>45</th>\n",
       "      <td>Larva Pendant</td>\n",
       "      <td>2022</td>\n",
       "      <td>7</td>\n",
       "      <td>Kids &amp; Family Movies</td>\n",
       "      <td>33</td>\n",
       "    </tr>\n",
       "    <tr>\n",
       "      <th>47</th>\n",
       "      <td>My Little Pony: A New Alleneration: SinAll-Alo...</td>\n",
       "      <td>2022</td>\n",
       "      <td>7</td>\n",
       "      <td>Kids &amp; Family Movies</td>\n",
       "      <td>90</td>\n",
       "    </tr>\n",
       "    <tr>\n",
       "      <th>48</th>\n",
       "      <td>Chip and Potato: Chip’s Holiday</td>\n",
       "      <td>2022</td>\n",
       "      <td>All</td>\n",
       "      <td>Kids &amp; Family Movies</td>\n",
       "      <td>24</td>\n",
       "    </tr>\n",
       "    <tr>\n",
       "      <th>50</th>\n",
       "      <td>Rescued by Ruby</td>\n",
       "      <td>2022</td>\n",
       "      <td>7</td>\n",
       "      <td>Kids &amp; Family Movies</td>\n",
       "      <td>93</td>\n",
       "    </tr>\n",
       "    <tr>\n",
       "      <th>...</th>\n",
       "      <td>...</td>\n",
       "      <td>...</td>\n",
       "      <td>...</td>\n",
       "      <td>...</td>\n",
       "      <td>...</td>\n",
       "    </tr>\n",
       "    <tr>\n",
       "      <th>8854</th>\n",
       "      <td>Zenda</td>\n",
       "      <td>2009</td>\n",
       "      <td>10</td>\n",
       "      <td>Dramas, International Movies</td>\n",
       "      <td>93</td>\n",
       "    </tr>\n",
       "    <tr>\n",
       "      <th>8855</th>\n",
       "      <td>Zinzana</td>\n",
       "      <td>2015</td>\n",
       "      <td>10</td>\n",
       "      <td>Dramas, International Movies, Thrillers</td>\n",
       "      <td>90</td>\n",
       "    </tr>\n",
       "    <tr>\n",
       "      <th>8857</th>\n",
       "      <td>Zombieland</td>\n",
       "      <td>2009</td>\n",
       "      <td>18</td>\n",
       "      <td>Comedies, Horror Movies</td>\n",
       "      <td>114</td>\n",
       "    </tr>\n",
       "    <tr>\n",
       "      <th>8858</th>\n",
       "      <td>Zoom</td>\n",
       "      <td>2006</td>\n",
       "      <td>15</td>\n",
       "      <td>Children &amp; Family Movies, Comedies</td>\n",
       "      <td>107</td>\n",
       "    </tr>\n",
       "    <tr>\n",
       "      <th>8859</th>\n",
       "      <td>Zubaan</td>\n",
       "      <td>2015</td>\n",
       "      <td>14</td>\n",
       "      <td>Dramas, International Movies, Music &amp; Musicals</td>\n",
       "      <td>97</td>\n",
       "    </tr>\n",
       "  </tbody>\n",
       "</table>\n",
       "<p>5392 rows × 5 columns</p>\n",
       "</div>"
      ],
      "text/plain": [
       "                                                   Name  Year Rating  \\\n",
       "40                             Inside the Mind of a Cat  2022      7   \n",
       "45                                        Larva Pendant  2022      7   \n",
       "47    My Little Pony: A New Alleneration: SinAll-Alo...  2022      7   \n",
       "48                      Chip and Potato: Chip’s Holiday  2022    All   \n",
       "50                                      Rescued by Ruby  2022      7   \n",
       "...                                                 ...   ...    ...   \n",
       "8854                                              Zenda  2009     10   \n",
       "8855                                            Zinzana  2015     10   \n",
       "8857                                         Zombieland  2009     18   \n",
       "8858                                               Zoom  2006     15   \n",
       "8859                                             Zubaan  2015     14   \n",
       "\n",
       "                                            Category  Duration (Min)  \n",
       "40                              Kids & Family Movies              67  \n",
       "45                              Kids & Family Movies              33  \n",
       "47                              Kids & Family Movies              90  \n",
       "48                              Kids & Family Movies              24  \n",
       "50                              Kids & Family Movies              93  \n",
       "...                                              ...             ...  \n",
       "8854                    Dramas, International Movies              93  \n",
       "8855         Dramas, International Movies, Thrillers              90  \n",
       "8857                         Comedies, Horror Movies             114  \n",
       "8858              Children & Family Movies, Comedies             107  \n",
       "8859  Dramas, International Movies, Music & Musicals              97  \n",
       "\n",
       "[5392 rows x 5 columns]"
      ]
     },
     "execution_count": 15,
     "metadata": {},
     "output_type": "execute_result"
    }
   ],
   "source": [
    "df_cleaned = df_final[['Name','Year','Rating','CateAllory','Total Duration']]\n",
    "df_cleaned.rename(columns = {'CateAllory':'Category','Total Duration':'Duration (Min)'},inplace=True)\n",
    "df_cleaned"
   ]
  },
  {
   "cell_type": "code",
   "execution_count": 16,
   "id": "38198d57-cc23-4c40-a69b-a1f78a70f66c",
   "metadata": {},
   "outputs": [
    {
     "data": {
      "text/plain": [
       "291"
      ]
     },
     "execution_count": 16,
     "metadata": {},
     "output_type": "execute_result"
    }
   ],
   "source": [
    "df_cleaned['Category'].nunique()"
   ]
  },
  {
   "cell_type": "code",
   "execution_count": 17,
   "id": "4bc94979",
   "metadata": {},
   "outputs": [
    {
     "data": {
      "text/html": [
       "<div>\n",
       "<style scoped>\n",
       "    .dataframe tbody tr th:only-of-type {\n",
       "        vertical-align: middle;\n",
       "    }\n",
       "\n",
       "    .dataframe tbody tr th {\n",
       "        vertical-align: top;\n",
       "    }\n",
       "\n",
       "    .dataframe thead th {\n",
       "        text-align: right;\n",
       "    }\n",
       "</style>\n",
       "<table border=\"1\" class=\"dataframe\">\n",
       "  <thead>\n",
       "    <tr style=\"text-align: right;\">\n",
       "      <th></th>\n",
       "      <th>0</th>\n",
       "      <th>1</th>\n",
       "      <th>2</th>\n",
       "    </tr>\n",
       "  </thead>\n",
       "  <tbody>\n",
       "    <tr>\n",
       "      <th>40</th>\n",
       "      <td>Kids &amp; Family Movies</td>\n",
       "      <td>None</td>\n",
       "      <td>None</td>\n",
       "    </tr>\n",
       "    <tr>\n",
       "      <th>45</th>\n",
       "      <td>Kids &amp; Family Movies</td>\n",
       "      <td>None</td>\n",
       "      <td>None</td>\n",
       "    </tr>\n",
       "    <tr>\n",
       "      <th>47</th>\n",
       "      <td>Kids &amp; Family Movies</td>\n",
       "      <td>None</td>\n",
       "      <td>None</td>\n",
       "    </tr>\n",
       "    <tr>\n",
       "      <th>48</th>\n",
       "      <td>Kids &amp; Family Movies</td>\n",
       "      <td>None</td>\n",
       "      <td>None</td>\n",
       "    </tr>\n",
       "    <tr>\n",
       "      <th>50</th>\n",
       "      <td>Kids &amp; Family Movies</td>\n",
       "      <td>None</td>\n",
       "      <td>None</td>\n",
       "    </tr>\n",
       "    <tr>\n",
       "      <th>...</th>\n",
       "      <td>...</td>\n",
       "      <td>...</td>\n",
       "      <td>...</td>\n",
       "    </tr>\n",
       "    <tr>\n",
       "      <th>8854</th>\n",
       "      <td>Dramas</td>\n",
       "      <td>International Movies</td>\n",
       "      <td>None</td>\n",
       "    </tr>\n",
       "    <tr>\n",
       "      <th>8855</th>\n",
       "      <td>Dramas</td>\n",
       "      <td>International Movies</td>\n",
       "      <td>Thrillers</td>\n",
       "    </tr>\n",
       "    <tr>\n",
       "      <th>8857</th>\n",
       "      <td>Comedies</td>\n",
       "      <td>Horror Movies</td>\n",
       "      <td>None</td>\n",
       "    </tr>\n",
       "    <tr>\n",
       "      <th>8858</th>\n",
       "      <td>Children &amp; Family Movies</td>\n",
       "      <td>Comedies</td>\n",
       "      <td>None</td>\n",
       "    </tr>\n",
       "    <tr>\n",
       "      <th>8859</th>\n",
       "      <td>Dramas</td>\n",
       "      <td>International Movies</td>\n",
       "      <td>Music &amp; Musicals</td>\n",
       "    </tr>\n",
       "  </tbody>\n",
       "</table>\n",
       "<p>5392 rows × 3 columns</p>\n",
       "</div>"
      ],
      "text/plain": [
       "                             0                      1                  2\n",
       "40        Kids & Family Movies                   None               None\n",
       "45        Kids & Family Movies                   None               None\n",
       "47        Kids & Family Movies                   None               None\n",
       "48        Kids & Family Movies                   None               None\n",
       "50        Kids & Family Movies                   None               None\n",
       "...                        ...                    ...                ...\n",
       "8854                    Dramas   International Movies               None\n",
       "8855                    Dramas   International Movies          Thrillers\n",
       "8857                  Comedies          Horror Movies               None\n",
       "8858  Children & Family Movies               Comedies               None\n",
       "8859                    Dramas   International Movies   Music & Musicals\n",
       "\n",
       "[5392 rows x 3 columns]"
      ]
     },
     "execution_count": 17,
     "metadata": {},
     "output_type": "execute_result"
    }
   ],
   "source": [
    "genre_split = df_cleaned['Category'].str.split(',', expand=True)\n",
    "genre_split"
   ]
  },
  {
   "cell_type": "code",
   "execution_count": 18,
   "id": "af6ab69e",
   "metadata": {
    "scrolled": true
   },
   "outputs": [
    {
     "name": "stdout",
     "output_type": "stream",
     "text": [
      "Comedy              1387\n",
      "Drama               1365\n",
      "Documentary          763\n",
      "Action/Adventure     677\n",
      "Family               466\n",
      "Thriller/Horror      354\n",
      "International        117\n",
      "Others               102\n",
      "Classics              73\n",
      "Anime                 28\n",
      "Music                 23\n",
      "Romance               17\n",
      "Fantasy               11\n",
      "Crime                  8\n",
      "Science-Fiction        1\n",
      "Name: 0, dtype: int64\n",
      "International            1402\n",
      "Others                    584\n",
      "Drama                     572\n",
      "Comedy                    302\n",
      "Thriller/Horror           228\n",
      "Romance                   136\n",
      "Music                     130\n",
      "Fantasy                    95\n",
      "Action/Adventure           77\n",
      " Faith & Spirituality      49\n",
      "Documentary                34\n",
      "Anime                      32\n",
      "Classics                   26\n",
      "Family                     19\n",
      "Name: 1, dtype: int64\n",
      "International            688\n",
      "Romance                  365\n",
      "Others                   193\n",
      "Thriller/Horror          191\n",
      "Music                    175\n",
      "Fantasy                   95\n",
      "Action/Adventure          85\n",
      "Drama                     48\n",
      "Comedy                    10\n",
      " Faith & Spirituality     10\n",
      "Classics                   4\n",
      "Family                     1\n",
      "Documentary                1\n",
      "Name: 2, dtype: int64\n"
     ]
    }
   ],
   "source": [
    "for column in range(3):\n",
    "    genre_split.loc[genre_split[column].str.contains('Kids',regex=False,na=False), column] = 'Family'\n",
    "\n",
    "    genre_split.loc[genre_split[column].str.contains('Teen',regex=False,na=False), column] = 'Family'\n",
    "\n",
    "    genre_split.loc[genre_split[column].str.contains('Family',regex=False,na=False), column] = 'Family'\n",
    "\n",
    "    genre_split.loc[genre_split[column].str.contains('Horror',regex=False,na=False), column] = 'Thriller/Horror'\n",
    "\n",
    "    genre_split.loc[genre_split[column].str.contains('Thriller',regex=False,na=False), column] = 'Thriller/Horror'\n",
    "\n",
    "    genre_split.loc[genre_split[column].str.contains('Roman',regex=False,na=False), column] = 'Romance'\n",
    "\n",
    "    genre_split.loc[genre_split[column].str.contains('Fantasy',regex=False,na=False), column] = 'Fantasy'\n",
    "\n",
    "    genre_split.loc[genre_split[column].str.contains('Crime',regex=False,na=False), column] = 'Crime'\n",
    "\n",
    "    genre_split.loc[genre_split[column].str.contains('Action',regex=False,na=False), column] = 'Action/Adventure'\n",
    "\n",
    "    genre_split.loc[genre_split[column].str.contains('Adventure',regex=False,na=False), column] = 'Action/Adventure'\n",
    "\n",
    "    genre_split.loc[genre_split[column].str.contains('Martial',regex=False,na=False), column] = 'Action/Adventure'\n",
    "\n",
    "    genre_split.loc[genre_split[column].str.contains('Sport',regex=False,na=False), column] = 'Action/Adventure'\n",
    "\n",
    "    genre_split.loc[genre_split[column].str.contains('Docu',regex=False,na=False), column] = 'Documentary'\n",
    "\n",
    "    genre_split.loc[genre_split[column].str.contains('Science',regex=False,na=False), column] = 'Documentary'\n",
    "\n",
    "    genre_split.loc[genre_split[column].str.contains('Music',regex=False,na=False), column] = 'Music'\n",
    "\n",
    "    genre_split.loc[genre_split[column].str.contains('Sci-Fi',regex=False,na=False), column] = 'Science-Fiction'\n",
    "\n",
    "    genre_split.loc[genre_split[column].str.contains('Spy',regex=False,na=False), column] = 'Action/Adventure'\n",
    "\n",
    "    genre_split.loc[genre_split[column].str.contains('Concert',regex=False,na=False), column] = 'Music'\n",
    "\n",
    "    genre_split.loc[genre_split[column].str.contains('Anime',regex=False,na=False), column] = 'Anime'\n",
    "\n",
    "    genre_split.loc[genre_split[column].str.contains('US',regex=False,na=False), column] = 'International'\n",
    "\n",
    "    genre_split.loc[genre_split[column].str.contains('Middle',regex=False,na=False), column] = 'International'\n",
    "\n",
    "    genre_split.loc[genre_split[column].str.contains('Chinese',regex=False,na=False), column] = 'International'\n",
    "\n",
    "    genre_split.loc[genre_split[column].str.contains('Hindi',regex=False,na=False), column] = 'International'\n",
    "\n",
    "    genre_split.loc[genre_split[column].str.contains('Tamil',regex=False,na=False), column] = 'International'\n",
    "\n",
    "    genre_split.loc[genre_split[column].str.contains('African',regex=False,na=False), column] = 'International'\n",
    "\n",
    "    genre_split.loc[genre_split[column].str.contains('International Movie',regex=False,na=False), column] = 'International'\n",
    "\n",
    "    genre_split.loc[genre_split[column].str.contains('Hip',regex=False,na=False), column] = 'Music'\n",
    "\n",
    "    genre_split.loc[genre_split[column].str.contains('Food',regex=False,na=False), column] = 'Family'\n",
    "\n",
    "    genre_split.loc[genre_split[column].str.contains('Movies ',regex=False,na=False), column] = 'Others'\n",
    "\n",
    "    genre_split.loc[genre_split[column].str.contains('Military',regex=False,na=False), column] = 'Others'\n",
    "\n",
    "    genre_split.loc[genre_split[column].str.contains('Period',regex=False,na=False), column] = 'Others'\n",
    "\n",
    "    genre_split.loc[genre_split[column].str.contains('TeluAllu',regex=False,na=False), column] = 'Others'\n",
    "\n",
    "    genre_split.loc[genre_split[column].str.contains('Independent',regex=False,na=False), column] = 'Others'\n",
    "    \n",
    "    genre_split.loc[genre_split[column].str.contains('Cult',regex=False,na=False), column] = 'Others'\n",
    "    \n",
    "    genre_split.loc[genre_split[column].str.contains('LAllBTQ',regex=False,na=False), column] = 'Others'\n",
    "    \n",
    "    genre_split.loc[genre_split[column].str.contains('Classic',regex=False,na=False), column] = 'Classics'\n",
    "    \n",
    "    genre_split.loc[genre_split[column].str.contains('Movies',regex=False,na=False), column] = 'Others'\n",
    "    \n",
    "    genre_split.loc[genre_split[column].str.contains('Drama',regex=False,na=False), column] = 'Drama'\n",
    "    \n",
    "    genre_split.loc[genre_split[column].str.contains('Come',regex=False,na=False), column] = 'Comedy'\n",
    "\n",
    "# If movie -> check if a secondary category \n",
    "    \n",
    "\n",
    "print(genre_split[0].value_counts())\n",
    "print(genre_split[1].value_counts())  \n",
    "print(genre_split[2].value_counts())"
   ]
  },
  {
   "cell_type": "code",
   "execution_count": 19,
   "id": "e8c6e848",
   "metadata": {},
   "outputs": [
    {
     "data": {
      "text/plain": [
       "5392"
      ]
     },
     "execution_count": 19,
     "metadata": {},
     "output_type": "execute_result"
    }
   ],
   "source": [
    "len(df_cleaned['Category'])"
   ]
  },
  {
   "cell_type": "code",
   "execution_count": 20,
   "id": "e07e6921",
   "metadata": {},
   "outputs": [
    {
     "data": {
      "text/plain": [
       "40      Family\n",
       "45      Family\n",
       "47      Family\n",
       "48      Family\n",
       "50      Family\n",
       "         ...  \n",
       "8854     Drama\n",
       "8855     Drama\n",
       "8857    Comedy\n",
       "8858    Family\n",
       "8859     Drama\n",
       "Name: 0, Length: 5392, dtype: object"
      ]
     },
     "execution_count": 20,
     "metadata": {},
     "output_type": "execute_result"
    }
   ],
   "source": [
    "genre_split[0]"
   ]
  },
  {
   "cell_type": "code",
   "execution_count": 21,
   "id": "959d3a80",
   "metadata": {
    "scrolled": true
   },
   "outputs": [
    {
     "data": {
      "text/html": [
       "<div>\n",
       "<style scoped>\n",
       "    .dataframe tbody tr th:only-of-type {\n",
       "        vertical-align: middle;\n",
       "    }\n",
       "\n",
       "    .dataframe tbody tr th {\n",
       "        vertical-align: top;\n",
       "    }\n",
       "\n",
       "    .dataframe thead th {\n",
       "        text-align: right;\n",
       "    }\n",
       "</style>\n",
       "<table border=\"1\" class=\"dataframe\">\n",
       "  <thead>\n",
       "    <tr style=\"text-align: right;\">\n",
       "      <th></th>\n",
       "      <th>Name</th>\n",
       "      <th>Year</th>\n",
       "      <th>Rating</th>\n",
       "      <th>Category</th>\n",
       "      <th>Duration (Min)</th>\n",
       "    </tr>\n",
       "  </thead>\n",
       "  <tbody>\n",
       "    <tr>\n",
       "      <th>40</th>\n",
       "      <td>Inside the Mind of a Cat</td>\n",
       "      <td>2022</td>\n",
       "      <td>7</td>\n",
       "      <td>Family</td>\n",
       "      <td>67</td>\n",
       "    </tr>\n",
       "    <tr>\n",
       "      <th>45</th>\n",
       "      <td>Larva Pendant</td>\n",
       "      <td>2022</td>\n",
       "      <td>7</td>\n",
       "      <td>Family</td>\n",
       "      <td>33</td>\n",
       "    </tr>\n",
       "    <tr>\n",
       "      <th>47</th>\n",
       "      <td>My Little Pony: A New Alleneration: SinAll-Alo...</td>\n",
       "      <td>2022</td>\n",
       "      <td>7</td>\n",
       "      <td>Family</td>\n",
       "      <td>90</td>\n",
       "    </tr>\n",
       "    <tr>\n",
       "      <th>48</th>\n",
       "      <td>Chip and Potato: Chip’s Holiday</td>\n",
       "      <td>2022</td>\n",
       "      <td>All</td>\n",
       "      <td>Family</td>\n",
       "      <td>24</td>\n",
       "    </tr>\n",
       "    <tr>\n",
       "      <th>50</th>\n",
       "      <td>Rescued by Ruby</td>\n",
       "      <td>2022</td>\n",
       "      <td>7</td>\n",
       "      <td>Family</td>\n",
       "      <td>93</td>\n",
       "    </tr>\n",
       "    <tr>\n",
       "      <th>...</th>\n",
       "      <td>...</td>\n",
       "      <td>...</td>\n",
       "      <td>...</td>\n",
       "      <td>...</td>\n",
       "      <td>...</td>\n",
       "    </tr>\n",
       "    <tr>\n",
       "      <th>8854</th>\n",
       "      <td>Zenda</td>\n",
       "      <td>2009</td>\n",
       "      <td>10</td>\n",
       "      <td>Drama</td>\n",
       "      <td>93</td>\n",
       "    </tr>\n",
       "    <tr>\n",
       "      <th>8855</th>\n",
       "      <td>Zinzana</td>\n",
       "      <td>2015</td>\n",
       "      <td>10</td>\n",
       "      <td>Drama</td>\n",
       "      <td>90</td>\n",
       "    </tr>\n",
       "    <tr>\n",
       "      <th>8857</th>\n",
       "      <td>Zombieland</td>\n",
       "      <td>2009</td>\n",
       "      <td>18</td>\n",
       "      <td>Comedy</td>\n",
       "      <td>114</td>\n",
       "    </tr>\n",
       "    <tr>\n",
       "      <th>8858</th>\n",
       "      <td>Zoom</td>\n",
       "      <td>2006</td>\n",
       "      <td>15</td>\n",
       "      <td>Family</td>\n",
       "      <td>107</td>\n",
       "    </tr>\n",
       "    <tr>\n",
       "      <th>8859</th>\n",
       "      <td>Zubaan</td>\n",
       "      <td>2015</td>\n",
       "      <td>14</td>\n",
       "      <td>Drama</td>\n",
       "      <td>97</td>\n",
       "    </tr>\n",
       "  </tbody>\n",
       "</table>\n",
       "<p>5392 rows × 5 columns</p>\n",
       "</div>"
      ],
      "text/plain": [
       "                                                   Name  Year Rating Category  \\\n",
       "40                             Inside the Mind of a Cat  2022      7   Family   \n",
       "45                                        Larva Pendant  2022      7   Family   \n",
       "47    My Little Pony: A New Alleneration: SinAll-Alo...  2022      7   Family   \n",
       "48                      Chip and Potato: Chip’s Holiday  2022    All   Family   \n",
       "50                                      Rescued by Ruby  2022      7   Family   \n",
       "...                                                 ...   ...    ...      ...   \n",
       "8854                                              Zenda  2009     10    Drama   \n",
       "8855                                            Zinzana  2015     10    Drama   \n",
       "8857                                         Zombieland  2009     18   Comedy   \n",
       "8858                                               Zoom  2006     15   Family   \n",
       "8859                                             Zubaan  2015     14    Drama   \n",
       "\n",
       "      Duration (Min)  \n",
       "40                67  \n",
       "45                33  \n",
       "47                90  \n",
       "48                24  \n",
       "50                93  \n",
       "...              ...  \n",
       "8854              93  \n",
       "8855              90  \n",
       "8857             114  \n",
       "8858             107  \n",
       "8859              97  \n",
       "\n",
       "[5392 rows x 5 columns]"
      ]
     },
     "execution_count": 21,
     "metadata": {},
     "output_type": "execute_result"
    }
   ],
   "source": [
    "df_cleaned['Category'] = genre_split[0]\n",
    "df_cleaned"
   ]
  },
  {
   "cell_type": "code",
   "execution_count": 22,
   "id": "2f03fcb8",
   "metadata": {},
   "outputs": [
    {
     "data": {
      "text/html": [
       "<div>\n",
       "<style scoped>\n",
       "    .dataframe tbody tr th:only-of-type {\n",
       "        vertical-align: middle;\n",
       "    }\n",
       "\n",
       "    .dataframe tbody tr th {\n",
       "        vertical-align: top;\n",
       "    }\n",
       "\n",
       "    .dataframe thead th {\n",
       "        text-align: right;\n",
       "    }\n",
       "</style>\n",
       "<table border=\"1\" class=\"dataframe\">\n",
       "  <thead>\n",
       "    <tr style=\"text-align: right;\">\n",
       "      <th></th>\n",
       "      <th>Name</th>\n",
       "      <th>Year</th>\n",
       "      <th>Rating</th>\n",
       "      <th>Category</th>\n",
       "      <th>Duration (Min)</th>\n",
       "      <th>Modern Rating</th>\n",
       "    </tr>\n",
       "  </thead>\n",
       "  <tbody>\n",
       "    <tr>\n",
       "      <th>40</th>\n",
       "      <td>Inside the Mind of a Cat</td>\n",
       "      <td>2022</td>\n",
       "      <td>7</td>\n",
       "      <td>Family</td>\n",
       "      <td>67</td>\n",
       "      <td></td>\n",
       "    </tr>\n",
       "    <tr>\n",
       "      <th>45</th>\n",
       "      <td>Larva Pendant</td>\n",
       "      <td>2022</td>\n",
       "      <td>7</td>\n",
       "      <td>Family</td>\n",
       "      <td>33</td>\n",
       "      <td></td>\n",
       "    </tr>\n",
       "    <tr>\n",
       "      <th>47</th>\n",
       "      <td>My Little Pony: A New Alleneration: SinAll-Alo...</td>\n",
       "      <td>2022</td>\n",
       "      <td>7</td>\n",
       "      <td>Family</td>\n",
       "      <td>90</td>\n",
       "      <td></td>\n",
       "    </tr>\n",
       "    <tr>\n",
       "      <th>48</th>\n",
       "      <td>Chip and Potato: Chip’s Holiday</td>\n",
       "      <td>2022</td>\n",
       "      <td>All</td>\n",
       "      <td>Family</td>\n",
       "      <td>24</td>\n",
       "      <td></td>\n",
       "    </tr>\n",
       "    <tr>\n",
       "      <th>50</th>\n",
       "      <td>Rescued by Ruby</td>\n",
       "      <td>2022</td>\n",
       "      <td>7</td>\n",
       "      <td>Family</td>\n",
       "      <td>93</td>\n",
       "      <td></td>\n",
       "    </tr>\n",
       "    <tr>\n",
       "      <th>...</th>\n",
       "      <td>...</td>\n",
       "      <td>...</td>\n",
       "      <td>...</td>\n",
       "      <td>...</td>\n",
       "      <td>...</td>\n",
       "      <td>...</td>\n",
       "    </tr>\n",
       "    <tr>\n",
       "      <th>8854</th>\n",
       "      <td>Zenda</td>\n",
       "      <td>2009</td>\n",
       "      <td>10</td>\n",
       "      <td>Drama</td>\n",
       "      <td>93</td>\n",
       "      <td></td>\n",
       "    </tr>\n",
       "    <tr>\n",
       "      <th>8855</th>\n",
       "      <td>Zinzana</td>\n",
       "      <td>2015</td>\n",
       "      <td>10</td>\n",
       "      <td>Drama</td>\n",
       "      <td>90</td>\n",
       "      <td></td>\n",
       "    </tr>\n",
       "    <tr>\n",
       "      <th>8857</th>\n",
       "      <td>Zombieland</td>\n",
       "      <td>2009</td>\n",
       "      <td>18</td>\n",
       "      <td>Comedy</td>\n",
       "      <td>114</td>\n",
       "      <td></td>\n",
       "    </tr>\n",
       "    <tr>\n",
       "      <th>8858</th>\n",
       "      <td>Zoom</td>\n",
       "      <td>2006</td>\n",
       "      <td>15</td>\n",
       "      <td>Family</td>\n",
       "      <td>107</td>\n",
       "      <td></td>\n",
       "    </tr>\n",
       "    <tr>\n",
       "      <th>8859</th>\n",
       "      <td>Zubaan</td>\n",
       "      <td>2015</td>\n",
       "      <td>14</td>\n",
       "      <td>Drama</td>\n",
       "      <td>97</td>\n",
       "      <td></td>\n",
       "    </tr>\n",
       "  </tbody>\n",
       "</table>\n",
       "<p>5392 rows × 6 columns</p>\n",
       "</div>"
      ],
      "text/plain": [
       "                                                   Name  Year Rating Category  \\\n",
       "40                             Inside the Mind of a Cat  2022      7   Family   \n",
       "45                                        Larva Pendant  2022      7   Family   \n",
       "47    My Little Pony: A New Alleneration: SinAll-Alo...  2022      7   Family   \n",
       "48                      Chip and Potato: Chip’s Holiday  2022    All   Family   \n",
       "50                                      Rescued by Ruby  2022      7   Family   \n",
       "...                                                 ...   ...    ...      ...   \n",
       "8854                                              Zenda  2009     10    Drama   \n",
       "8855                                            Zinzana  2015     10    Drama   \n",
       "8857                                         Zombieland  2009     18   Comedy   \n",
       "8858                                               Zoom  2006     15   Family   \n",
       "8859                                             Zubaan  2015     14    Drama   \n",
       "\n",
       "      Duration (Min) Modern Rating  \n",
       "40                67                \n",
       "45                33                \n",
       "47                90                \n",
       "48                24                \n",
       "50                93                \n",
       "...              ...           ...  \n",
       "8854              93                \n",
       "8855              90                \n",
       "8857             114                \n",
       "8858             107                \n",
       "8859              97                \n",
       "\n",
       "[5392 rows x 6 columns]"
      ]
     },
     "execution_count": 22,
     "metadata": {},
     "output_type": "execute_result"
    }
   ],
   "source": [
    "# Create a new column of age rating sorted into PG, PG-13, TV-14A, R\n",
    "df_cleaned['Modern Rating'] = \"\"\n",
    "df_cleaned"
   ]
  },
  {
   "cell_type": "code",
   "execution_count": 23,
   "id": "4ee3248e",
   "metadata": {
    "scrolled": true
   },
   "outputs": [
    {
     "data": {
      "text/plain": [
       "Adult    2589\n",
       "14A      1461\n",
       "PG        643\n",
       "PG-13     353\n",
       "G         344\n",
       "NR          2\n",
       "Name: Modern Rating, dtype: int64"
      ]
     },
     "execution_count": 23,
     "metadata": {},
     "output_type": "execute_result"
    }
   ],
   "source": [
    "# Sorting ratings by Canadian metrics\n",
    "df_cleaned.loc[df_cleaned.loc[df_cleaned['Rating'] == '7'].index,'Modern Rating'] = 'PG'\n",
    "df_cleaned.loc[df_cleaned.loc[df_cleaned['Rating'] == 'All'].index,'Modern Rating'] = 'G'\n",
    "df_cleaned.loc[df_cleaned.loc[df_cleaned['Rating'] == '18'].index,'Modern Rating'] = 'Adult'\n",
    "df_cleaned.loc[df_cleaned.loc[df_cleaned['Rating'] == '13'].index,'Modern Rating'] = 'PG-13'\n",
    "df_cleaned.loc[df_cleaned.loc[df_cleaned['Rating'] == '16'].index,'Modern Rating'] = '14A'\n",
    "df_cleaned.loc[df_cleaned.loc[df_cleaned['Rating'] == '14'].index,'Modern Rating'] = '14A'\n",
    "df_cleaned.loc[df_cleaned.loc[df_cleaned['Rating'] == '10'].index,'Modern Rating'] = 'PG'\n",
    "df_cleaned.loc[df_cleaned.loc[df_cleaned['Rating'] == 'TV-All'].index,'Modern Rating'] = 'G'\n",
    "df_cleaned.loc[df_cleaned.loc[df_cleaned['Rating'] == 'NC-17'].index,'Modern Rating'] = 'Adult'\n",
    "df_cleaned.loc[df_cleaned.loc[df_cleaned['Rating'] == 'NR'].index,'Modern Rating'] = 'NR'\n",
    "df_cleaned.loc[df_cleaned.loc[df_cleaned['Rating'] == '15'].index,'Modern Rating'] = '14A'\n",
    "# genre_split.loc[genre_split[column].str.contains('Come',regex=False,na=False), column] = 'Comedy'\n",
    "# df_cleaned.loc[df_cleaned['Rating'] == '7',:]\n",
    "df_cleaned['Modern Rating'].value_counts()"
   ]
  },
  {
   "cell_type": "code",
   "execution_count": 24,
   "id": "62c163b2",
   "metadata": {},
   "outputs": [
    {
     "data": {
      "text/plain": [
       "False"
      ]
     },
     "execution_count": 24,
     "metadata": {},
     "output_type": "execute_result"
    }
   ],
   "source": [
    "df_cleaned['Modern Rating'].isna().any()"
   ]
  },
  {
   "cell_type": "code",
   "execution_count": 25,
   "id": "fd2cb47f",
   "metadata": {},
   "outputs": [
    {
     "data": {
      "text/html": [
       "<div>\n",
       "<style scoped>\n",
       "    .dataframe tbody tr th:only-of-type {\n",
       "        vertical-align: middle;\n",
       "    }\n",
       "\n",
       "    .dataframe tbody tr th {\n",
       "        vertical-align: top;\n",
       "    }\n",
       "\n",
       "    .dataframe thead th {\n",
       "        text-align: right;\n",
       "    }\n",
       "</style>\n",
       "<table border=\"1\" class=\"dataframe\">\n",
       "  <thead>\n",
       "    <tr style=\"text-align: right;\">\n",
       "      <th></th>\n",
       "      <th>Name</th>\n",
       "      <th>Year</th>\n",
       "      <th>Rating</th>\n",
       "      <th>Category</th>\n",
       "      <th>Duration (Min)</th>\n",
       "      <th>Modern Rating</th>\n",
       "    </tr>\n",
       "  </thead>\n",
       "  <tbody>\n",
       "    <tr>\n",
       "      <th>40</th>\n",
       "      <td>Inside the Mind of a Cat</td>\n",
       "      <td>2022</td>\n",
       "      <td>7</td>\n",
       "      <td>Family</td>\n",
       "      <td>67</td>\n",
       "      <td>PG</td>\n",
       "    </tr>\n",
       "    <tr>\n",
       "      <th>45</th>\n",
       "      <td>Larva Pendant</td>\n",
       "      <td>2022</td>\n",
       "      <td>7</td>\n",
       "      <td>Family</td>\n",
       "      <td>33</td>\n",
       "      <td>PG</td>\n",
       "    </tr>\n",
       "    <tr>\n",
       "      <th>47</th>\n",
       "      <td>My Little Pony: A New Alleneration: SinAll-Alo...</td>\n",
       "      <td>2022</td>\n",
       "      <td>7</td>\n",
       "      <td>Family</td>\n",
       "      <td>90</td>\n",
       "      <td>PG</td>\n",
       "    </tr>\n",
       "    <tr>\n",
       "      <th>48</th>\n",
       "      <td>Chip and Potato: Chip’s Holiday</td>\n",
       "      <td>2022</td>\n",
       "      <td>All</td>\n",
       "      <td>Family</td>\n",
       "      <td>24</td>\n",
       "      <td>G</td>\n",
       "    </tr>\n",
       "    <tr>\n",
       "      <th>50</th>\n",
       "      <td>Rescued by Ruby</td>\n",
       "      <td>2022</td>\n",
       "      <td>7</td>\n",
       "      <td>Family</td>\n",
       "      <td>93</td>\n",
       "      <td>PG</td>\n",
       "    </tr>\n",
       "    <tr>\n",
       "      <th>...</th>\n",
       "      <td>...</td>\n",
       "      <td>...</td>\n",
       "      <td>...</td>\n",
       "      <td>...</td>\n",
       "      <td>...</td>\n",
       "      <td>...</td>\n",
       "    </tr>\n",
       "    <tr>\n",
       "      <th>8854</th>\n",
       "      <td>Zenda</td>\n",
       "      <td>2009</td>\n",
       "      <td>10</td>\n",
       "      <td>Drama</td>\n",
       "      <td>93</td>\n",
       "      <td>PG</td>\n",
       "    </tr>\n",
       "    <tr>\n",
       "      <th>8855</th>\n",
       "      <td>Zinzana</td>\n",
       "      <td>2015</td>\n",
       "      <td>10</td>\n",
       "      <td>Drama</td>\n",
       "      <td>90</td>\n",
       "      <td>PG</td>\n",
       "    </tr>\n",
       "    <tr>\n",
       "      <th>8857</th>\n",
       "      <td>Zombieland</td>\n",
       "      <td>2009</td>\n",
       "      <td>18</td>\n",
       "      <td>Comedy</td>\n",
       "      <td>114</td>\n",
       "      <td>Adult</td>\n",
       "    </tr>\n",
       "    <tr>\n",
       "      <th>8858</th>\n",
       "      <td>Zoom</td>\n",
       "      <td>2006</td>\n",
       "      <td>15</td>\n",
       "      <td>Family</td>\n",
       "      <td>107</td>\n",
       "      <td>14A</td>\n",
       "    </tr>\n",
       "    <tr>\n",
       "      <th>8859</th>\n",
       "      <td>Zubaan</td>\n",
       "      <td>2015</td>\n",
       "      <td>14</td>\n",
       "      <td>Drama</td>\n",
       "      <td>97</td>\n",
       "      <td>14A</td>\n",
       "    </tr>\n",
       "  </tbody>\n",
       "</table>\n",
       "<p>5392 rows × 6 columns</p>\n",
       "</div>"
      ],
      "text/plain": [
       "                                                   Name  Year Rating Category  \\\n",
       "40                             Inside the Mind of a Cat  2022      7   Family   \n",
       "45                                        Larva Pendant  2022      7   Family   \n",
       "47    My Little Pony: A New Alleneration: SinAll-Alo...  2022      7   Family   \n",
       "48                      Chip and Potato: Chip’s Holiday  2022    All   Family   \n",
       "50                                      Rescued by Ruby  2022      7   Family   \n",
       "...                                                 ...   ...    ...      ...   \n",
       "8854                                              Zenda  2009     10    Drama   \n",
       "8855                                            Zinzana  2015     10    Drama   \n",
       "8857                                         Zombieland  2009     18   Comedy   \n",
       "8858                                               Zoom  2006     15   Family   \n",
       "8859                                             Zubaan  2015     14    Drama   \n",
       "\n",
       "      Duration (Min) Modern Rating  \n",
       "40                67            PG  \n",
       "45                33            PG  \n",
       "47                90            PG  \n",
       "48                24             G  \n",
       "50                93            PG  \n",
       "...              ...           ...  \n",
       "8854              93            PG  \n",
       "8855              90            PG  \n",
       "8857             114         Adult  \n",
       "8858             107           14A  \n",
       "8859              97           14A  \n",
       "\n",
       "[5392 rows x 6 columns]"
      ]
     },
     "execution_count": 25,
     "metadata": {},
     "output_type": "execute_result"
    }
   ],
   "source": [
    "df_cleaned"
   ]
  },
  {
   "cell_type": "code",
   "execution_count": 26,
   "id": "8f2fa60a",
   "metadata": {},
   "outputs": [],
   "source": [
    "df_cleaned.to_csv(\"netflix_clean.csv\",encoding='utf-8')"
   ]
  },
  {
   "cell_type": "code",
   "execution_count": 27,
   "id": "52e43880",
   "metadata": {
    "scrolled": true
   },
   "outputs": [
    {
     "data": {
      "text/html": [
       "<div>\n",
       "<style scoped>\n",
       "    .dataframe tbody tr th:only-of-type {\n",
       "        vertical-align: middle;\n",
       "    }\n",
       "\n",
       "    .dataframe tbody tr th {\n",
       "        vertical-align: top;\n",
       "    }\n",
       "\n",
       "    .dataframe thead th {\n",
       "        text-align: right;\n",
       "    }\n",
       "</style>\n",
       "<table border=\"1\" class=\"dataframe\">\n",
       "  <thead>\n",
       "    <tr style=\"text-align: right;\">\n",
       "      <th></th>\n",
       "      <th>Name</th>\n",
       "      <th>Year</th>\n",
       "      <th>Rating</th>\n",
       "      <th>Category</th>\n",
       "      <th>Duration (Min)</th>\n",
       "      <th>Modern Rating</th>\n",
       "    </tr>\n",
       "  </thead>\n",
       "  <tbody>\n",
       "    <tr>\n",
       "      <th>5131</th>\n",
       "      <td>Silent</td>\n",
       "      <td>2014</td>\n",
       "      <td>7</td>\n",
       "      <td>Family</td>\n",
       "      <td>3</td>\n",
       "      <td>PG</td>\n",
       "    </tr>\n",
       "    <tr>\n",
       "      <th>8693</th>\n",
       "      <td>Tracers</td>\n",
       "      <td>2015</td>\n",
       "      <td>14</td>\n",
       "      <td>Action/Adventure</td>\n",
       "      <td>3</td>\n",
       "      <td>14A</td>\n",
       "    </tr>\n",
       "  </tbody>\n",
       "</table>\n",
       "</div>"
      ],
      "text/plain": [
       "         Name  Year Rating          Category  Duration (Min) Modern Rating\n",
       "5131   Silent  2014      7            Family               3            PG\n",
       "8693  Tracers  2015     14  Action/Adventure               3           14A"
      ]
     },
     "execution_count": 27,
     "metadata": {},
     "output_type": "execute_result"
    }
   ],
   "source": [
    "df_cleaned.loc[df_cleaned['Duration (Min)'] ==  df_cleaned['Duration (Min)'].min(),:]"
   ]
  },
  {
   "cell_type": "code",
   "execution_count": 28,
   "id": "3f3074d2",
   "metadata": {},
   "outputs": [
    {
     "data": {
      "text/html": [
       "<div>\n",
       "<style scoped>\n",
       "    .dataframe tbody tr th:only-of-type {\n",
       "        vertical-align: middle;\n",
       "    }\n",
       "\n",
       "    .dataframe tbody tr th {\n",
       "        vertical-align: top;\n",
       "    }\n",
       "\n",
       "    .dataframe thead th {\n",
       "        text-align: right;\n",
       "    }\n",
       "</style>\n",
       "<table border=\"1\" class=\"dataframe\">\n",
       "  <thead>\n",
       "    <tr style=\"text-align: right;\">\n",
       "      <th></th>\n",
       "      <th>Name</th>\n",
       "      <th>Year</th>\n",
       "      <th>Rating</th>\n",
       "      <th>Category</th>\n",
       "      <th>Duration (Min)</th>\n",
       "      <th>Modern Rating</th>\n",
       "    </tr>\n",
       "  </thead>\n",
       "  <tbody>\n",
       "    <tr>\n",
       "      <th>5432</th>\n",
       "      <td>Black Mirror: Bandersnatch</td>\n",
       "      <td>2018</td>\n",
       "      <td>18</td>\n",
       "      <td>Drama</td>\n",
       "      <td>312</td>\n",
       "      <td>Adult</td>\n",
       "    </tr>\n",
       "  </tbody>\n",
       "</table>\n",
       "</div>"
      ],
      "text/plain": [
       "                            Name  Year Rating Category  Duration (Min)  \\\n",
       "5432  Black Mirror: Bandersnatch  2018     18    Drama             312   \n",
       "\n",
       "     Modern Rating  \n",
       "5432         Adult  "
      ]
     },
     "execution_count": 28,
     "metadata": {},
     "output_type": "execute_result"
    }
   ],
   "source": [
    "df_cleaned.loc[df_cleaned['Duration (Min)'] ==  df_cleaned['Duration (Min)'].max(),:]"
   ]
  },
  {
   "cell_type": "code",
   "execution_count": 29,
   "id": "1f827372",
   "metadata": {},
   "outputs": [],
   "source": [
    "# For answering a genre question, only include the categories of a single genre "
   ]
  },
  {
   "cell_type": "code",
   "execution_count": 30,
   "id": "95a000b7",
   "metadata": {},
   "outputs": [],
   "source": [
    "# Split categories by string \" , \" and just count? - if a movie has three categories it contributes 0.33?"
   ]
  },
  {
   "cell_type": "code",
   "execution_count": 31,
   "id": "57a7723a",
   "metadata": {},
   "outputs": [
    {
     "data": {
      "text/plain": [
       "99.0522997032641"
      ]
     },
     "execution_count": 31,
     "metadata": {},
     "output_type": "execute_result"
    }
   ],
   "source": [
    "#Generate Data Visualizations/Statistics to Answer Question(s) 1: What is the average length of a movie today? and have movie lengths changed since the 1940s? \n",
    "\n",
    "#Calculate the summary statistics \n",
    "#Mean \n",
    "Mean_MovieDuration=df_cleaned[\"Duration (Min)\"].mean()\n",
    "Mean_MovieDuration"
   ]
  },
  {
   "cell_type": "code",
   "execution_count": 32,
   "id": "4eb21573",
   "metadata": {},
   "outputs": [
    {
     "data": {
      "text/plain": [
       "29.48913715369301"
      ]
     },
     "execution_count": 32,
     "metadata": {},
     "output_type": "execute_result"
    }
   ],
   "source": [
    "#SD \n",
    "sd_MovieDuration=df_cleaned[\"Duration (Min)\"].std()\n",
    "sd_MovieDuration"
   ]
  },
  {
   "cell_type": "code",
   "execution_count": 33,
   "id": "219d2f86",
   "metadata": {},
   "outputs": [
    {
     "data": {
      "text/plain": [
       "99.0"
      ]
     },
     "execution_count": 33,
     "metadata": {},
     "output_type": "execute_result"
    }
   ],
   "source": [
    "#Median\n",
    "median_MovieDuration = df_cleaned[\"Duration (Min)\"].median()\n",
    "median_MovieDuration"
   ]
  },
  {
   "cell_type": "code",
   "execution_count": 34,
   "id": "fc870a33",
   "metadata": {},
   "outputs": [
    {
     "data": {
      "text/plain": [
       "28.0"
      ]
     },
     "execution_count": 34,
     "metadata": {},
     "output_type": "execute_result"
    }
   ],
   "source": [
    "#IQR\n",
    "Q1 = df_cleaned[\"Duration (Min)\"].quantile(0.25)\n",
    "Q3 = df_cleaned[\"Duration (Min)\"].quantile(0.75)\n",
    "IQR = Q3-Q1\n",
    "IQR"
   ]
  },
  {
   "cell_type": "code",
   "execution_count": 35,
   "id": "6dd1d942",
   "metadata": {},
   "outputs": [
    {
     "data": {
      "text/plain": [
       "5392"
      ]
     },
     "execution_count": 35,
     "metadata": {},
     "output_type": "execute_result"
    }
   ],
   "source": [
    "#Number of movies \n",
    "movie_count=len(df_cleaned[\"Name\"].unique())\n",
    "movie_count"
   ]
  },
  {
   "cell_type": "code",
   "execution_count": 36,
   "id": "332ba7e1",
   "metadata": {},
   "outputs": [
    {
     "data": {
      "text/html": [
       "<div>\n",
       "<style scoped>\n",
       "    .dataframe tbody tr th:only-of-type {\n",
       "        vertical-align: middle;\n",
       "    }\n",
       "\n",
       "    .dataframe tbody tr th {\n",
       "        vertical-align: top;\n",
       "    }\n",
       "\n",
       "    .dataframe thead th {\n",
       "        text-align: right;\n",
       "    }\n",
       "</style>\n",
       "<table border=\"1\" class=\"dataframe\">\n",
       "  <thead>\n",
       "    <tr style=\"text-align: right;\">\n",
       "      <th></th>\n",
       "      <th>Number of Movies</th>\n",
       "      <th>Mean Duration (Min)</th>\n",
       "      <th>Std Duration (Min)</th>\n",
       "      <th>Median Duration (Min)</th>\n",
       "      <th>IQR Duration (Min)</th>\n",
       "    </tr>\n",
       "  </thead>\n",
       "  <tbody>\n",
       "    <tr>\n",
       "      <th>0</th>\n",
       "      <td>5392</td>\n",
       "      <td>98.9</td>\n",
       "      <td>29.3</td>\n",
       "      <td>99</td>\n",
       "      <td>28</td>\n",
       "    </tr>\n",
       "  </tbody>\n",
       "</table>\n",
       "</div>"
      ],
      "text/plain": [
       "   Number of Movies  Mean Duration (Min)  Std Duration (Min)  \\\n",
       "0              5392                 98.9                29.3   \n",
       "\n",
       "   Median Duration (Min)  IQR Duration (Min)  \n",
       "0                     99                  28  "
      ]
     },
     "execution_count": 36,
     "metadata": {},
     "output_type": "execute_result"
    }
   ],
   "source": [
    "df = pd.DataFrame({'Number of Movies': [5392], \"Mean Duration (Min)\": [98.9], \"Std Duration (Min)\": [29.3], \"Median Duration (Min)\": [99], \"IQR Duration (Min)\": [28]})\n",
    "df"
   ]
  },
  {
   "cell_type": "code",
   "execution_count": 37,
   "id": "080e2718",
   "metadata": {
    "scrolled": true
   },
   "outputs": [
    {
     "data": {
      "text/plain": [
       "Decade\n",
       "1942 - 1952      11\n",
       "1953 - 1962      16\n",
       "1963 - 1972      25\n",
       "1973 - 1982      86\n",
       "1983 - 1992     132\n",
       "1993 - 2002     287\n",
       "2003 - 2012     914\n",
       "2013 - 2022    3919\n",
       "Name: Name, dtype: int64"
      ]
     },
     "execution_count": 37,
     "metadata": {},
     "output_type": "execute_result"
    }
   ],
   "source": [
    "# Binning by decade\n",
    "bins = [1942,1952,1962,1972,1982,1992,2002,2012,2022]\n",
    "group_labels = [\"1942 - 1952\",\"1953 - 1962\",\"1963 - 1972\",\"1973 - 1982\",\"1983 - 1992\",\"1993 - 2002\",\"2003 - 2012\",\"2013 - 2022\"]\n",
    "df_year_binned = df_cleaned.copy()\n",
    "df_year_binned[\"Decade\"] = pd.cut(df_year_binned[\"Year\"], bins, labels = group_labels)\n",
    "df_year_groupby = df_year_binned.groupby(\"Decade\")\n",
    "df_year_groupby[\"Name\"].count()"
   ]
  },
  {
   "cell_type": "code",
   "execution_count": 38,
   "id": "edbe437e",
   "metadata": {},
   "outputs": [
    {
     "data": {
      "text/plain": [
       "Decade\n",
       "1942 - 1952     89.636364\n",
       "1953 - 1962    108.500000\n",
       "1963 - 1972    103.520000\n",
       "1973 - 1982    111.813953\n",
       "1983 - 1992    104.439394\n",
       "1993 - 2002    105.198606\n",
       "2003 - 2012    104.746171\n",
       "2013 - 2022     96.771115\n",
       "Name: Duration (Min), dtype: float64"
      ]
     },
     "execution_count": 38,
     "metadata": {},
     "output_type": "execute_result"
    }
   ],
   "source": [
    "# Average duration per decade \n",
    "df_year_groupby[\"Duration (Min)\"].mean()"
   ]
  },
  {
   "cell_type": "markdown",
   "id": "48724733",
   "metadata": {},
   "source": [
    "# DATA VISUALIZATION"
   ]
  },
  {
   "cell_type": "code",
   "execution_count": 39,
   "id": "1fe532df",
   "metadata": {},
   "outputs": [
    {
     "data": {
      "image/png": "[encoded data removed]",
      "text/plain": [
       "<Figure size 432x288 with 1 Axes>"
      ]
     },
     "metadata": {
      "needs_background": "light"
     },
     "output_type": "display_data"
    }
   ],
   "source": [
    "#Create a bar chart of movie duration (min) between 1942 and 2022. \n",
    "\n",
    "fig, ax = plt.subplots()\n",
    "\n",
    "#Create values for bar chart  \n",
    "years_decade_barchart = [\"1942 - 1952\",\"1953 - 1962\",\"1963 - 1972\",\"1973 - 1982\",\"1983 - 1992\",\"1993 - 2002\",\"2003 - 2012\",\"2013 - 2022\"]\n",
    "counts_avgd = [89.6, 108.5, 103.5, 111.8, 104.4, 105.2, 104.7, 96.8]\n",
    "ax.bar(years_decade_barchart, counts_avgd, color='b', alpha=0.8, align='center')\n",
    "\n",
    "#Label axes and title\n",
    "ax.set_ylabel(\"Duration (min)\")\n",
    "ax.set_title (\"Average Movie Duration Between 1942 to 2022\")\n",
    "plt.xticks(rotation=\"vertical\")\n",
    "plt.xlabel(\"Years\")\n",
    "\n",
    "#Add percentage to bar graph \n",
    "\n",
    "\n",
    "#Show plot\n",
    "plt.show()\n"
   ]
  },
  {
   "cell_type": "code",
   "execution_count": 40,
   "id": "20bdfc02",
   "metadata": {
    "scrolled": true
   },
   "outputs": [
    {
     "data": {
      "image/png": "[encoded data removed]",
      "text/plain": [
       "<Figure size 432x288 with 1 Axes>"
      ]
     },
     "metadata": {
      "needs_background": "light"
     },
     "output_type": "display_data"
    }
   ],
   "source": [
    "# Movie Duration of Genres Between 1940-2022 Option 1\n",
    "\n",
    "# Group durations by genre\n",
    "genre_durations_grouped = df_cleaned.groupby(df_cleaned['Category'])\n",
    "\n",
    "# This is line \n",
    "family_x = genre_durations_grouped.get_group('Family').groupby('Year').mean().index\n",
    "family_y = genre_durations_grouped.get_group('Family').groupby('Year').mean()['Duration (Min)']\n",
    "action_x = genre_durations_grouped.get_group('Action/Adventure').groupby('Year').mean().index\n",
    "action_y = genre_durations_grouped.get_group('Action/Adventure').groupby('Year').mean()['Duration (Min)']\n",
    "documentary_x = genre_durations_grouped.get_group('Documentary').groupby('Year').mean().index\n",
    "documentary_y = genre_durations_grouped.get_group('Documentary').groupby('Year').mean()['Duration (Min)']\n",
    "drama_x = genre_durations_grouped.get_group('Drama').groupby('Year').mean().index\n",
    "drama_y = genre_durations_grouped.get_group('Drama').groupby('Year').mean()['Duration (Min)']\n",
    "comedy_x = genre_durations_grouped.get_group('Comedy').groupby('Year').mean().index\n",
    "comedy_y = genre_durations_grouped.get_group('Comedy').groupby('Year').mean()['Duration (Min)']\n",
    "thriller_x = genre_durations_grouped.get_group('Thriller/Horror').groupby('Year').mean().index\n",
    "thriller_y = genre_durations_grouped.get_group('Thriller/Horror').groupby('Year').mean()['Duration (Min)']\n",
    "\n",
    "plt.plot(family_x, family_y, label = 'Family')\n",
    "plt.plot(action_x, action_y, label = 'Action/Adventure')\n",
    "plt.plot(documentary_x, documentary_y, label = 'Documentary')\n",
    "plt.plot(drama_x, drama_y, label = \"Drama\")\n",
    "plt.plot(comedy_x, comedy_y, label = \"Comedy\")\n",
    "plt.plot(thriller_x, thriller_y, label = \"Thriller/Horror\")\n",
    "plt.xlabel('Year')\n",
    "plt.ylabel('Duration (Min)')\n",
    "plt.title('Movie Duration of Genres')\n",
    "\n",
    "plt.legend(loc='best')\n",
    "\n",
    "plt.savefig('Genre_Duration_byYear1.png')\n",
    "plt.show()"
   ]
  },
  {
   "cell_type": "code",
   "execution_count": 41,
   "id": "7f1c3261",
   "metadata": {},
   "outputs": [
    {
     "data": {
      "image/png": "[encoded data removed]",
      "text/plain": [
       "<Figure size 432x288 with 1 Axes>"
      ]
     },
     "metadata": {
      "needs_background": "light"
     },
     "output_type": "display_data"
    },
    {
     "data": {
      "image/png": "[encoded data removed]",
      "text/plain": [
       "<Figure size 432x288 with 1 Axes>"
      ]
     },
     "metadata": {
      "needs_background": "light"
     },
     "output_type": "display_data"
    },
    {
     "data": {
      "image/png": "[encoded data removed]",
      "text/plain": [
       "<Figure size 432x288 with 1 Axes>"
      ]
     },
     "metadata": {
      "needs_background": "light"
     },
     "output_type": "display_data"
    },
    {
     "data": {
      "image/png": "[encoded data removed]",
      "text/plain": [
       "<Figure size 432x288 with 1 Axes>"
      ]
     },
     "metadata": {
      "needs_background": "light"
     },
     "output_type": "display_data"
    },
    {
     "data": {
      "image/png": "[encoded data removed]",
      "text/plain": [
       "<Figure size 432x288 with 1 Axes>"
      ]
     },
     "metadata": {
      "needs_background": "light"
     },
     "output_type": "display_data"
    },
    {
     "data": {
      "image/png": "[encoded data removed]",
      "text/plain": [
       "<Figure size 432x288 with 1 Axes>"
      ]
     },
     "metadata": {
      "needs_background": "light"
     },
     "output_type": "display_data"
    }
   ],
   "source": [
    "# Movie Duration of Genres Between 1940-2022 Option 2\n",
    "genre_durations_grouped.get_group('Family').groupby('Year').mean().plot(c='blue',ylabel = 'Duration (Min)',legend = False,title='Family')\n",
    "genre_durations_grouped.get_group('Comedy').groupby('Year').mean().plot(c='purple',ylabel = 'Duration (Min)',legend = False,title='Comedy')\n",
    "genre_durations_grouped.get_group('Action/Adventure').groupby('Year').mean().plot(c='orange',ylabel = 'Duration (Min)',legend = False,title='Action/Adventure')\n",
    "genre_durations_grouped.get_group('Thriller/Horror').groupby('Year').mean().plot(c='brown',ylabel = 'Duration (Min)',legend = False,title='Thriller/Horror')\n",
    "genre_durations_grouped.get_group('Drama').groupby('Year').mean().plot(c='red',ylabel = 'Duration (Min)',legend = False,title='Drama')\n",
    "genre_durations_grouped.get_group('Documentary').groupby('Year').mean().plot(c='green',ylabel = 'Duration (Min)',legend = False,title='Documentary')\n",
    "\n",
    "plt.savefig('Genre_Duration_byYear2.png')\n",
    "plt.show()"
   ]
  },
  {
   "cell_type": "code",
   "execution_count": 42,
   "id": "dde2167d",
   "metadata": {},
   "outputs": [
    {
     "data": {
      "image/png": "[encoded data removed]",
      "text/plain": [
       "<Figure size 432x288 with 1 Axes>"
      ]
     },
     "metadata": {
      "needs_background": "light"
     },
     "output_type": "display_data"
    }
   ],
   "source": [
    "#Create Barplot for movies produced between 1942 to 2022 to demonstrate the distribution of movies in our dataset. \n",
    "bar_plot = df_year_binned[\"Decade\"].value_counts().plot.bar(width=0.7, rot=70)\n",
    "\n",
    "#Set Labels \n",
    "bar_plot.set_xlabel(\"Years\")\n",
    "bar_plot.set_ylabel(\"Number of Movies\")\n",
    "bar_plot.set_title (\"Number of Movies Produced Between 1942 to 2022\")\n",
    "\n",
    "\n",
    "#Reformat x-axis to be palatable for viewers \n",
    "plt.gca().invert_xaxis()\n"
   ]
  },
  {
   "cell_type": "code",
   "execution_count": 43,
   "id": "8273663c",
   "metadata": {},
   "outputs": [
    {
     "data": {
      "image/png": "[encoded data removed]",
      "text/plain": [
       "<Figure size 720x504 with 1 Axes>"
      ]
     },
     "metadata": {
      "needs_background": "light"
     },
     "output_type": "display_data"
    }
   ],
   "source": [
    "# Create Barplot for movies produced between 1942 to 2022 to demonstrate the distribution of movies in our dataset. \n",
    "mylist =df_year_binned[\"Decade\"].unique()\n",
    "\n",
    "\n",
    "mylist = [str(x) for x in mylist]\n",
    "# print(mylist)\n",
    "newlist = [x for x in mylist if x != 'nan']\n",
    "# print(newlist)\n",
    "x=newlist\n",
    "\n",
    "y=[]\n",
    "\n",
    "for i in range(0,len(df_year_binned[\"Decade\"])):\n",
    "    if i<8:\n",
    "        y. append(df_year_binned[\"Decade\"].value_counts()[i])\n",
    " \n",
    "  \n",
    "# plot\n",
    "fig, ax = plt.subplots(figsize=(10,7))\n",
    "\n",
    "ax.plot(x, y, linewidth=2.0)\n",
    "\n",
    "line, = ax.plot(x, y)\n",
    "\n",
    "plt.gca().invert_xaxis()\n",
    "plt.ylabel('Number of Movies')\n",
    "plt.xlabel('Years')\n",
    "plt.title('Number of Movies Created Between 1942-2022')\n",
    "# plt.grid()\n",
    "# plt.legend()       \n",
    "\n",
    "def animate(i):\n",
    "    line.set_ydata(y)  # update the data.\n",
    "    return line,\n",
    "\n",
    "ani = animation.FuncAnimation(\n",
    "    fig, animate, interval=20, blit=True, save_count=50)\n",
    "\n",
    "# To save the animation, use e.g.\n",
    "\n",
    "ani.save(\"movie.mp4\")"
   ]
  },
  {
   "cell_type": "code",
   "execution_count": 44,
   "id": "0048ade5",
   "metadata": {},
   "outputs": [
    {
     "data": {
      "text/plain": [
       "Duration\n",
       "0-59        40.126050\n",
       "60-89       79.432258\n",
       "90-119     103.570266\n",
       "120-149    131.777633\n",
       "150-179    161.883117\n",
       "180-219    192.117647\n",
       "220-239    227.700000\n",
       "240-269    253.000000\n",
       "270-299    273.000000\n",
       "300-330    312.000000\n",
       "Name: Duration (Min), dtype: float64"
      ]
     },
     "execution_count": 44,
     "metadata": {},
     "output_type": "execute_result"
    }
   ],
   "source": [
    "#Binning by duration\n",
    "bins = [0,60,90,120,150,180,210,240,270,300,330]\n",
    "group_labels = [\"0-59\",\"60-89\",\"90-119\",\"120-149\",\"150-179\",\"180-219\",\"220-239\",\"240-269\",\"270-299\",\"300-330\"]\n",
    "df_duration_binned = df_cleaned.copy()\n",
    "df_duration_binned[\"Duration\"] = pd.cut(df_duration_binned[\"Duration (Min)\"], bins, labels = group_labels)\n",
    "df_duration_groupby = df_duration_binned.groupby(\"Duration\")\n",
    "df_duration_groupby[\"Duration (Min)\"].mean()\n"
   ]
  },
  {
   "cell_type": "code",
   "execution_count": null,
   "id": "a149b3c9",
   "metadata": {},
   "outputs": [],
   "source": []
  },
  {
   "cell_type": "code",
   "execution_count": 45,
   "id": "98a5750e",
   "metadata": {},
   "outputs": [
    {
     "data": {
      "text/plain": [
       "Text(0.5, 1.0, 'Movie Duration')"
      ]
     },
     "execution_count": 45,
     "metadata": {},
     "output_type": "execute_result"
    },
    {
     "data": {
      "image/png": "[encoded data removed]",
      "text/plain": [
       "<Figure size 432x288 with 1 Axes>"
      ]
     },
     "metadata": {
      "needs_background": "light"
     },
     "output_type": "display_data"
    }
   ],
   "source": [
    "#Create a bar chart to demonstrate average duration of movies in dataset. \n",
    "\n",
    "bar_plot = df_duration_binned[\"Duration\"].value_counts(sort=False).plot.bar(width=0.7, rot=90, color='b')\n",
    "\n",
    "#Set Labels \n",
    "bar_plot.set_xlabel(\"Movie Duration (Min)\")\n",
    "bar_plot.set_ylabel(\"Number of Movies\")\n",
    "bar_plot.set_title (\"Movie Duration\")\n",
    "\n"
   ]
  },
  {
   "cell_type": "code",
   "execution_count": 46,
   "id": "a8729c6d",
   "metadata": {},
   "outputs": [
    {
     "data": {
      "image/png": "[encoded data removed]",
      "text/plain": [
       "<Figure size 432x288 with 1 Axes>"
      ]
     },
     "metadata": {},
     "output_type": "display_data"
    }
   ],
   "source": [
    "#Question 2 - Movie Genres \n",
    "\n",
    "#What is the distribution of Movie genres in our dataset? \n",
    "\n",
    "#Create Pie Chart to visualize the data \n",
    "\n",
    "#Labels for the sections of the pie chart \n",
    "labels = [\"Comedy\", \"Drama\", \"Documentary\", \"Action/Adventure\", \"Family\", \"Thriller/Horror\", \"\", \"\", \"Other Genres\", \"\", \"\", \"\", \"\", \"\", \"\"]\n",
    "# labels = [\"Comedy\", \"Drama\", \"Docuementary\", \"Action/Adventure\", \"Family\", \"Thriller/Horror\", \"International\", \"Classics\", \"Anime\", \"Music\", \"Romance\", \"Fantasy\", \"Crime\", \"Science-Fiction\", \"Others\"]\n",
    "#The values of each section for the pie chart \n",
    "sizes = [1387, 1365, 763, 677, 466, 354, 117, 73, 28, 23, 17, 11, 8, 1, 102]\n",
    "\n",
    "#Matplot to separate Comedy & Drama from the pie chart \n",
    "# explode = (0, 0, 0,0,0,0,0,0.1,0.1,0.1,0.1,0.1,0.1,0.1,0)\n",
    "explode = (0.1, 0.1, 0,0,0,0,0,0,0,0,0,0,0,0,0)\n",
    "\n",
    "#create pie chart and turn into percentages \n",
    "def my_autopct(pct):\n",
    "    return ('%1.1f%%' % pct) if pct > 6 else ''\n",
    "\n",
    "plt.pie(sizes, explode=explode, labels=labels, autopct=my_autopct, shadow=True, startangle=140)\n",
    "plt.axis(\"equal\")\n",
    "plt.show()"
   ]
  },
  {
   "cell_type": "code",
   "execution_count": 47,
   "id": "60b6d322",
   "metadata": {},
   "outputs": [
    {
     "data": {
      "image/png": "[encoded data removed]",
      "text/plain": [
       "<Figure size 432x288 with 1 Axes>"
      ]
     },
     "metadata": {
      "needs_background": "light"
     },
     "output_type": "display_data"
    }
   ],
   "source": [
    "#Pie Chart not appropriate demonstration due to >10 categories therefore will produce a histogram to demonstrate the distribution of genres. \n",
    "\n",
    "fig, ax = plt.subplots()\n",
    "\n",
    "#Create values for pie chart \n",
    "Genres = [\"Comedy\", \"Drama\", \"Documentary\", \"Action/Adventure\", \"Family\", \"Thriller/Horror\", \"International\", \"Others\", \"Classics\", \"Anime\", \"Music\", \"Romance\", \"Fantasy\", \"Crime\", \"Sci-Fi\"]\n",
    "counts = [1387, 1365, 763, 677, 466, 354, 117, 102, 73, 28, 23, 17,11,8,1]\n",
    "ax.bar(Genres, counts, color='b', alpha=0.8, align='center')\n",
    "\n",
    "#Label axes and title\n",
    "ax.set_ylabel(\"Number of Movies\")\n",
    "ax.set_title (\"Movies by Genre\")\n",
    "plt.xticks(rotation=\"vertical\")\n",
    "plt.xlabel(\"Genres\")\n",
    "\n",
    "#Add percentage to bar graph \n",
    "\n",
    "\n",
    "#Show plot\n",
    "plt.show()"
   ]
  },
  {
   "cell_type": "code",
   "execution_count": 48,
   "id": "143eaf2e",
   "metadata": {},
   "outputs": [
    {
     "data": {
      "text/html": [
       "<div>\n",
       "<style scoped>\n",
       "    .dataframe tbody tr th:only-of-type {\n",
       "        vertical-align: middle;\n",
       "    }\n",
       "\n",
       "    .dataframe tbody tr th {\n",
       "        vertical-align: top;\n",
       "    }\n",
       "\n",
       "    .dataframe thead th {\n",
       "        text-align: right;\n",
       "    }\n",
       "</style>\n",
       "<table border=\"1\" class=\"dataframe\">\n",
       "  <thead>\n",
       "    <tr style=\"text-align: right;\">\n",
       "      <th></th>\n",
       "      <th>Average Movie Duration (min)</th>\n",
       "      <th>Median Movie Duration (min)</th>\n",
       "      <th>Duration variance</th>\n",
       "      <th>Duration standard deviation</th>\n",
       "      <th>Movie Duration: Standard error</th>\n",
       "    </tr>\n",
       "  </thead>\n",
       "  <tbody>\n",
       "    <tr>\n",
       "      <th>0</th>\n",
       "      <td>Category\n",
       "Action/Adventure    106.454948\n",
       "Anime ...</td>\n",
       "      <td>Category\n",
       "Action/Adventure    103.0\n",
       "Anime      ...</td>\n",
       "      <td>Category\n",
       "Action/Adventure     833.390349\n",
       "Anime...</td>\n",
       "      <td>Category\n",
       "Action/Adventure    28.868501\n",
       "Anime  ...</td>\n",
       "      <td>Category\n",
       "Action/Adventure    1.109507\n",
       "Anime   ...</td>\n",
       "    </tr>\n",
       "  </tbody>\n",
       "</table>\n",
       "</div>"
      ],
      "text/plain": [
       "                        Average Movie Duration (min)  \\\n",
       "0  Category\n",
       "Action/Adventure    106.454948\n",
       "Anime ...   \n",
       "\n",
       "                         Median Movie Duration (min)  \\\n",
       "0  Category\n",
       "Action/Adventure    103.0\n",
       "Anime      ...   \n",
       "\n",
       "                                   Duration variance  \\\n",
       "0  Category\n",
       "Action/Adventure     833.390349\n",
       "Anime...   \n",
       "\n",
       "                         Duration standard deviation  \\\n",
       "0  Category\n",
       "Action/Adventure    28.868501\n",
       "Anime  ...   \n",
       "\n",
       "                      Movie Duration: Standard error  \n",
       "0  Category\n",
       "Action/Adventure    1.109507\n",
       "Anime   ...  "
      ]
     },
     "execution_count": 48,
     "metadata": {},
     "output_type": "execute_result"
    }
   ],
   "source": [
    "#Create a dataframe for the summary statistics of movie genres by minutes\n",
    "\n",
    "#summary statistics \n",
    "mean = df_cleaned['Duration (Min)'].groupby(df_cleaned['Category']).mean()\n",
    "median = df_cleaned['Duration (Min)'].groupby(df_cleaned['Category']).median()\n",
    "var = df_cleaned['Duration (Min)'].groupby(df_cleaned['Category']).var()\n",
    "std = df_cleaned['Duration (Min)'].groupby(df_cleaned['Category']).std()\n",
    "sem = df_cleaned['Duration (Min)'].groupby(df_cleaned['Category']).sem()\n",
    "\n",
    "summary_stat= pd.DataFrame(\n",
    "                        [{\"Average Movie Duration (min)\": mean,\n",
    "                           \"Median Movie Duration (min)\": median,\n",
    "                          \"Duration variance\": var, \n",
    "                          \"Duration standard deviation\": std,\n",
    "                          \"Movie Duration: Standard error\": sem}])\n",
    "summary_stat.head()"
   ]
  },
  {
   "cell_type": "code",
   "execution_count": 49,
   "id": "64c3f161",
   "metadata": {},
   "outputs": [
    {
     "data": {
      "text/plain": [
       "Category\n",
       "Action/Adventure    106.454948\n",
       "Anime                99.214286\n",
       "Classics             98.178082\n",
       "Comedy               96.692862\n",
       "Crime               114.125000\n",
       "Documentary          90.904325\n",
       "Drama               105.972161\n",
       "Family               88.615880\n",
       "Fantasy              97.272727\n",
       "International       104.170940\n",
       "Music                98.695652\n",
       "Others               89.705882\n",
       "Romance             108.235294\n",
       "Science-Fiction     109.000000\n",
       "Thriller/Horror      99.194915\n",
       "Name: Duration (Min), dtype: float64"
      ]
     },
     "execution_count": 49,
     "metadata": {},
     "output_type": "execute_result"
    }
   ],
   "source": [
    "#create average duration (min) for each genre \n",
    "mean "
   ]
  },
  {
   "cell_type": "code",
   "execution_count": 50,
   "id": "ad351748",
   "metadata": {},
   "outputs": [
    {
     "data": {
      "image/png": "[encoded data removed]",
      "text/plain": [
       "<Figure size 432x288 with 1 Axes>"
      ]
     },
     "metadata": {
      "needs_background": "light"
     },
     "output_type": "display_data"
    }
   ],
   "source": [
    "fig, ax = plt.subplots()\n",
    "\n",
    "#Create values for bar chart\n",
    "Genres = [\"Action/Adventure\",\"Anime\", \"Classics\",\"Comedy\", \"Crime\",\"Documentary\",\"Drama\",\"Family\", \"Fantasy\",\"International\",\"Music\",\"Others\",\"Romance\",\"Science-Fiction\", \"Thriller/Horror\"]\n",
    "Minutes = [106.45,98.21,98.17,96.69,114.12,90.90,105.97,88.61,97.27,104.17,98.69,89.70,108.23,109.00,99.19]\n",
    "ax.bar(Genres, Minutes, color='b', alpha=0.8, align='center')\n",
    "\n",
    "#Label axes and title\n",
    "ax.set_ylabel(\"Average Duration (Min)\")\n",
    "ax.set_title (\"Average Movie Duration By Genre\")\n",
    "plt.xticks(rotation=\"vertical\")\n",
    "plt.xlabel(\"Genres\")\n",
    "\n",
    "#Show plot\n",
    "plt.show()"
   ]
  },
  {
   "cell_type": "code",
   "execution_count": 51,
   "id": "751932c9",
   "metadata": {},
   "outputs": [],
   "source": [
    "#Statistics - Which columns have the lowest average movie Duration? the longest? Is there a signficiant difference between movie run times between genres? \n"
   ]
  },
  {
   "cell_type": "code",
   "execution_count": 52,
   "id": "2edc5863",
   "metadata": {},
   "outputs": [],
   "source": [
    "#Scatterplot with multiple lines for different genres by year (x-axis) and minute duration (y-axis) to observe if movie genre lengths changed overtime.\n"
   ]
  },
  {
   "cell_type": "code",
   "execution_count": 53,
   "id": "64a34aef",
   "metadata": {},
   "outputs": [
    {
     "data": {
      "text/plain": [
       "<function matplotlib.pyplot.show(close=None, block=None)>"
      ]
     },
     "execution_count": 53,
     "metadata": {},
     "output_type": "execute_result"
    },
    {
     "data": {
      "image/png": "[encoded data removed]",
      "text/plain": [
       "<Figure size 432x288 with 1 Axes>"
      ]
     },
     "metadata": {
      "needs_background": "light"
     },
     "output_type": "display_data"
    }
   ],
   "source": [
    "#Question 3 Do average movie times differ based on movie rating systems (PG, PG-13, TV-14A, R)? \n",
    "\n",
    "#Does the age rating correlate with the length of the movie? (scatterplot with linear cor. Ratings on x-axis and length by minutes on y) \n",
    "\n",
    "x_ax = df_cleaned[\"Rating\"]\n",
    "dur = df_cleaned [\"Duration (Min)\"]\n",
    "\n",
    "fig1, ax1 = plt.subplots()\n",
    "plt.title (\"Movie Age Rating Correlation with Duration\")\n",
    "plt.scatter(x_ax, dur, marker = 'o', color=\"blue\")\n",
    "plt.xlabel(\"Movie Audience Age Rating\")\n",
    "plt.ylabel(\"Duration (Min)\")\n",
    "\n",
    "\n",
    "plt.show"
   ]
  },
  {
   "cell_type": "markdown",
   "id": "1b8e5b96",
   "metadata": {},
   "source": [
    "# Average movie time on Movie ratings (PG, PG-13, TV-14A, R)\n"
   ]
  },
  {
   "cell_type": "code",
   "execution_count": 60,
   "id": "b35eba56",
   "metadata": {},
   "outputs": [
    {
     "data": {
      "image/png": "[encoded data removed]",
      "text/plain": [
       "<Figure size 432x288 with 1 Axes>"
      ]
     },
     "metadata": {
      "needs_background": "light"
     },
     "output_type": "display_data"
    }
   ],
   "source": [
    "#Do average movie time differ based on Movie ratings (PG, PG-13, TV-14A, R)?\n",
    "\n",
    "average = df_cleaned.groupby([\"Modern Rating\"])[\"Duration (Min)\"].mean().map(\"{:.2f}\".format)\n",
    "    \n",
    "y=[105.04,97.87,95.36,101.00,88.02,106.63]\n",
    "\n",
    "# for i in range(len(average)):\n",
    "#     y.append(average[i])\n",
    "    \n",
    "x = ['14A', 'Adult', 'G', 'NR', 'PG', 'PG-13']\n",
    "\n",
    "# y\n",
    "rating_df=pd.DataFrame({\"Modern Rating\":x, \"Average\":y})\n",
    "\n",
    "plt.bar(x, y, color=\"b\", align=\"center\")\n",
    "plt.title(\"Average movie time per Movie ratings\")\n",
    "plt.xlabel(\"Modern Ratings\")\n",
    "plt.ylabel(\"Average movie time\")\n",
    "# plt.figure(figsize=(12,6))\n",
    "plt.savefig(\"average movie time.png\")\n",
    "plt.gca().invert_xaxis()\n",
    "\n",
    "plt.show()"
   ]
  },
  {
   "cell_type": "code",
   "execution_count": 61,
   "id": "f7c7aefe",
   "metadata": {},
   "outputs": [
    {
     "data": {
      "image/png": "[encoded data removed]",
      "text/plain": [
       "<Figure size 432x288 with 1 Axes>"
      ]
     },
     "metadata": {},
     "output_type": "display_data"
    }
   ],
   "source": [
    "# Labels for the sections of our pie chart\n",
    "labels =['14A', 'Adult', 'G', 'NR', 'PG', 'PG-13']\n",
    "\n",
    "# The values of each section of the pie chart\n",
    "sizes = y\n",
    "\n",
    "# The colors of each section of the pie chart\n",
    "colors = [\"red\", \"orange\", \"lightcoral\", \"blue\",\"yellow\",\"purple\"]\n",
    "\n",
    "# Tells matplotlib to separate the \"PG-13\" section from the others\n",
    "explode = (0, 0, 0, 0,0,0.3)\n",
    "\n",
    "# Creates the pie chart based upon the values above\n",
    "# Automatically finds the percentages of each part of the pie chart\n",
    "plt.pie(sizes, explode=explode, labels=labels, colors=colors,\n",
    "        autopct=\"%1.1f%%\", shadow=True, startangle=140)\n",
    "plt.axis(\"equal\")\n",
    "plt.title(\"Average movie time per Movie ratings\")\n",
    "plt.savefig(\"average movie time2.png\")"
   ]
  },
  {
   "cell_type": "markdown",
   "id": "6df93eee",
   "metadata": {},
   "source": [
    "# Age ratings for the top 4 genres"
   ]
  },
  {
   "cell_type": "code",
   "execution_count": 62,
   "id": "c6d6a113",
   "metadata": {},
   "outputs": [
    {
     "data": {
      "text/html": [
       "<div>\n",
       "<style scoped>\n",
       "    .dataframe tbody tr th:only-of-type {\n",
       "        vertical-align: middle;\n",
       "    }\n",
       "\n",
       "    .dataframe tbody tr th {\n",
       "        vertical-align: top;\n",
       "    }\n",
       "\n",
       "    .dataframe thead th {\n",
       "        text-align: right;\n",
       "    }\n",
       "</style>\n",
       "<table border=\"1\" class=\"dataframe\">\n",
       "  <thead>\n",
       "    <tr style=\"text-align: right;\">\n",
       "      <th></th>\n",
       "      <th>Name</th>\n",
       "      <th>Year</th>\n",
       "      <th>Rating</th>\n",
       "      <th>Category</th>\n",
       "      <th>Duration (Min)</th>\n",
       "      <th>Modern Rating</th>\n",
       "    </tr>\n",
       "  </thead>\n",
       "  <tbody>\n",
       "    <tr>\n",
       "      <th>40</th>\n",
       "      <td>Inside the Mind of a Cat</td>\n",
       "      <td>2022</td>\n",
       "      <td>7</td>\n",
       "      <td>Family</td>\n",
       "      <td>67</td>\n",
       "      <td>PG</td>\n",
       "    </tr>\n",
       "    <tr>\n",
       "      <th>45</th>\n",
       "      <td>Larva Pendant</td>\n",
       "      <td>2022</td>\n",
       "      <td>7</td>\n",
       "      <td>Family</td>\n",
       "      <td>33</td>\n",
       "      <td>PG</td>\n",
       "    </tr>\n",
       "    <tr>\n",
       "      <th>47</th>\n",
       "      <td>My Little Pony: A New Alleneration: SinAll-Alo...</td>\n",
       "      <td>2022</td>\n",
       "      <td>7</td>\n",
       "      <td>Family</td>\n",
       "      <td>90</td>\n",
       "      <td>PG</td>\n",
       "    </tr>\n",
       "    <tr>\n",
       "      <th>48</th>\n",
       "      <td>Chip and Potato: Chip’s Holiday</td>\n",
       "      <td>2022</td>\n",
       "      <td>All</td>\n",
       "      <td>Family</td>\n",
       "      <td>24</td>\n",
       "      <td>G</td>\n",
       "    </tr>\n",
       "    <tr>\n",
       "      <th>50</th>\n",
       "      <td>Rescued by Ruby</td>\n",
       "      <td>2022</td>\n",
       "      <td>7</td>\n",
       "      <td>Family</td>\n",
       "      <td>93</td>\n",
       "      <td>PG</td>\n",
       "    </tr>\n",
       "    <tr>\n",
       "      <th>...</th>\n",
       "      <td>...</td>\n",
       "      <td>...</td>\n",
       "      <td>...</td>\n",
       "      <td>...</td>\n",
       "      <td>...</td>\n",
       "      <td>...</td>\n",
       "    </tr>\n",
       "    <tr>\n",
       "      <th>8854</th>\n",
       "      <td>Zenda</td>\n",
       "      <td>2009</td>\n",
       "      <td>10</td>\n",
       "      <td>Drama</td>\n",
       "      <td>93</td>\n",
       "      <td>PG</td>\n",
       "    </tr>\n",
       "    <tr>\n",
       "      <th>8855</th>\n",
       "      <td>Zinzana</td>\n",
       "      <td>2015</td>\n",
       "      <td>10</td>\n",
       "      <td>Drama</td>\n",
       "      <td>90</td>\n",
       "      <td>PG</td>\n",
       "    </tr>\n",
       "    <tr>\n",
       "      <th>8857</th>\n",
       "      <td>Zombieland</td>\n",
       "      <td>2009</td>\n",
       "      <td>18</td>\n",
       "      <td>Comedy</td>\n",
       "      <td>114</td>\n",
       "      <td>Adult</td>\n",
       "    </tr>\n",
       "    <tr>\n",
       "      <th>8858</th>\n",
       "      <td>Zoom</td>\n",
       "      <td>2006</td>\n",
       "      <td>15</td>\n",
       "      <td>Family</td>\n",
       "      <td>107</td>\n",
       "      <td>14A</td>\n",
       "    </tr>\n",
       "    <tr>\n",
       "      <th>8859</th>\n",
       "      <td>Zubaan</td>\n",
       "      <td>2015</td>\n",
       "      <td>14</td>\n",
       "      <td>Drama</td>\n",
       "      <td>97</td>\n",
       "      <td>14A</td>\n",
       "    </tr>\n",
       "  </tbody>\n",
       "</table>\n",
       "<p>5392 rows × 6 columns</p>\n",
       "</div>"
      ],
      "text/plain": [
       "                                                   Name  Year Rating Category  \\\n",
       "40                             Inside the Mind of a Cat  2022      7   Family   \n",
       "45                                        Larva Pendant  2022      7   Family   \n",
       "47    My Little Pony: A New Alleneration: SinAll-Alo...  2022      7   Family   \n",
       "48                      Chip and Potato: Chip’s Holiday  2022    All   Family   \n",
       "50                                      Rescued by Ruby  2022      7   Family   \n",
       "...                                                 ...   ...    ...      ...   \n",
       "8854                                              Zenda  2009     10    Drama   \n",
       "8855                                            Zinzana  2015     10    Drama   \n",
       "8857                                         Zombieland  2009     18   Comedy   \n",
       "8858                                               Zoom  2006     15   Family   \n",
       "8859                                             Zubaan  2015     14    Drama   \n",
       "\n",
       "      Duration (Min) Modern Rating  \n",
       "40                67            PG  \n",
       "45                33            PG  \n",
       "47                90            PG  \n",
       "48                24             G  \n",
       "50                93            PG  \n",
       "...              ...           ...  \n",
       "8854              93            PG  \n",
       "8855              90            PG  \n",
       "8857             114         Adult  \n",
       "8858             107           14A  \n",
       "8859              97           14A  \n",
       "\n",
       "[5392 rows x 6 columns]"
      ]
     },
     "execution_count": 62,
     "metadata": {},
     "output_type": "execute_result"
    }
   ],
   "source": [
    "#What are the age ratings by top the top 4 genres?\n",
    "\n",
    "# average = df_cleaned.groupby([\"Category\"])[\"Rating\"].mean()\n",
    "# # average\n",
    "\n",
    "df_cleaned"
   ]
  },
  {
   "cell_type": "code",
   "execution_count": 63,
   "id": "f145521d",
   "metadata": {},
   "outputs": [
    {
     "data": {
      "image/png": "[encoded data removed]",
      "text/plain": [
       "<Figure size 432x288 with 1 Axes>"
      ]
     },
     "metadata": {
      "needs_background": "light"
     },
     "output_type": "display_data"
    }
   ],
   "source": [
    "rom_df=df_cleaned.loc[(df_cleaned['Category']==\"Romance\")]\n",
    "xs=rom_df[\"Year\"]\n",
    "ys=rom_df['Duration (Min)']\n",
    "plt.scatter(xs, ys, marker=\"o\", facecolors=\"red\", edgecolors=\"black\", alpha=0.75)\n",
    "plt.title(\"Movie Duration per Year for Romance\")\n",
    "plt.xlabel(\"Year\")\n",
    "plt.ylabel(\"Duration (Min)\")\n",
    "plt.savefig(\"Movie Duration per Year for Romance.png\")\n"
   ]
  },
  {
   "cell_type": "code",
   "execution_count": 64,
   "id": "b436aee4",
   "metadata": {},
   "outputs": [
    {
     "data": {
      "image/png": "[encoded data removed]",
      "text/plain": [
       "<Figure size 432x288 with 1 Axes>"
      ]
     },
     "metadata": {
      "needs_background": "light"
     },
     "output_type": "display_data"
    }
   ],
   "source": [
    "cri_df=df_cleaned.loc[(df_cleaned['Category']==\"Crime\")]\n",
    "xs=cri_df[\"Year\"]\n",
    "ys=cri_df['Duration (Min)']\n",
    "plt.scatter(xs, ys, marker=\"o\", facecolors=\"red\", edgecolors=\"black\", alpha=0.75)\n",
    "plt.title(\"Movie Duration per Year for Crime\")\n",
    "plt.xlabel(\"Year\")\n",
    "plt.ylabel(\"Duration (Min)\")\n",
    "plt.savefig(\"Movie Duration per Year for Crime.png\")"
   ]
  },
  {
   "cell_type": "code",
   "execution_count": 65,
   "id": "a354090c",
   "metadata": {},
   "outputs": [
    {
     "data": {
      "image/png": "[encoded data removed]",
      "text/plain": [
       "<Figure size 432x288 with 1 Axes>"
      ]
     },
     "metadata": {
      "needs_background": "light"
     },
     "output_type": "display_data"
    }
   ],
   "source": [
    "rom_df=df_cleaned.loc[(df_cleaned['Category']==\"Romance\")]\n",
    "xs=rom_df[\"Year\"]\n",
    "ys=rom_df['Duration (Min)']\n",
    "plt.scatter(xs, ys, marker=\"o\", facecolors=\"blue\", edgecolors=\"black\", alpha=0.75)\n",
    "plt.title(\"Movie Duration per Year for Romance\")\n",
    "plt.xlabel(\"Year\")\n",
    "plt.ylabel(\"Duration (Min)\")\n",
    "plt.savefig(\"Movie Duration per Year for Romance.png\")"
   ]
  },
  {
   "cell_type": "code",
   "execution_count": 66,
   "id": "151e7a31",
   "metadata": {},
   "outputs": [
    {
     "data": {
      "image/png": "[encoded data removed]",
      "text/plain": [
       "<Figure size 432x288 with 1 Axes>"
      ]
     },
     "metadata": {
      "needs_background": "light"
     },
     "output_type": "display_data"
    }
   ],
   "source": [
    "dram_df=df_cleaned.loc[(df_cleaned['Category']==\"Drama\")]\n",
    "xs=dram_df[\"Year\"]\n",
    "ys=dram_df['Duration (Min)']\n",
    "plt.scatter(xs, ys, marker=\"o\", facecolors=\"green\", edgecolors=\"black\", alpha=0.75)\n",
    "plt.title(\"Movie Duration per Year for Drama\")\n",
    "plt.xlabel(\"Year\")\n",
    "plt.ylabel(\"Duration (Min)\")\n",
    "\n",
    "plt.savefig(\"Movie Duration per Year for Drama.png\")\n"
   ]
  },
  {
   "cell_type": "code",
   "execution_count": 67,
   "id": "dca15abf",
   "metadata": {},
   "outputs": [
    {
     "data": {
      "text/plain": [
       "Text(0, 0.5, 'Duration (Min)')"
      ]
     },
     "execution_count": 67,
     "metadata": {},
     "output_type": "execute_result"
    },
    {
     "data": {
      "image/png": "[encoded data removed]",
      "text/plain": [
       "<Figure size 432x288 with 1 Axes>"
      ]
     },
     "metadata": {
      "needs_background": "light"
     },
     "output_type": "display_data"
    }
   ],
   "source": [
    "act_df=df_cleaned.loc[(df_cleaned['Category']==\"Action/Adventure\")]\n",
    "xs=act_df[\"Year\"]\n",
    "ys=act_df['Duration (Min)']\n",
    "plt.scatter(xs, ys, marker=\"o\", facecolors=\"purple\", edgecolors=\"black\", alpha=0.75)\n",
    "plt.title(\"Movie Duration per Year for Action/Adventure\")\n",
    "plt.xlabel(\"Year\")\n",
    "\n",
    "plt.ylabel(\"Duration (Min)\")\n",
    "# plt.savefig(\"Movie Duration per Year for Action/Adventure.png\")"
   ]
  },
  {
   "cell_type": "code",
   "execution_count": 68,
   "id": "7de5331e",
   "metadata": {},
   "outputs": [
    {
     "data": {
      "text/html": [
       "<div>\n",
       "<style scoped>\n",
       "    .dataframe tbody tr th:only-of-type {\n",
       "        vertical-align: middle;\n",
       "    }\n",
       "\n",
       "    .dataframe tbody tr th {\n",
       "        vertical-align: top;\n",
       "    }\n",
       "\n",
       "    .dataframe thead th {\n",
       "        text-align: right;\n",
       "    }\n",
       "</style>\n",
       "<table border=\"1\" class=\"dataframe\">\n",
       "  <thead>\n",
       "    <tr style=\"text-align: right;\">\n",
       "      <th></th>\n",
       "      <th>Name</th>\n",
       "      <th>Year</th>\n",
       "      <th>Rating</th>\n",
       "      <th>Category</th>\n",
       "      <th>Duration (Min)</th>\n",
       "      <th>Modern Rating</th>\n",
       "    </tr>\n",
       "  </thead>\n",
       "  <tbody>\n",
       "    <tr>\n",
       "      <th>40</th>\n",
       "      <td>Inside the Mind of a Cat</td>\n",
       "      <td>2022</td>\n",
       "      <td>7</td>\n",
       "      <td>Family</td>\n",
       "      <td>67</td>\n",
       "      <td>PG</td>\n",
       "    </tr>\n",
       "    <tr>\n",
       "      <th>45</th>\n",
       "      <td>Larva Pendant</td>\n",
       "      <td>2022</td>\n",
       "      <td>7</td>\n",
       "      <td>Family</td>\n",
       "      <td>33</td>\n",
       "      <td>PG</td>\n",
       "    </tr>\n",
       "    <tr>\n",
       "      <th>47</th>\n",
       "      <td>My Little Pony: A New Alleneration: SinAll-Alo...</td>\n",
       "      <td>2022</td>\n",
       "      <td>7</td>\n",
       "      <td>Family</td>\n",
       "      <td>90</td>\n",
       "      <td>PG</td>\n",
       "    </tr>\n",
       "    <tr>\n",
       "      <th>48</th>\n",
       "      <td>Chip and Potato: Chip’s Holiday</td>\n",
       "      <td>2022</td>\n",
       "      <td>All</td>\n",
       "      <td>Family</td>\n",
       "      <td>24</td>\n",
       "      <td>G</td>\n",
       "    </tr>\n",
       "    <tr>\n",
       "      <th>50</th>\n",
       "      <td>Rescued by Ruby</td>\n",
       "      <td>2022</td>\n",
       "      <td>7</td>\n",
       "      <td>Family</td>\n",
       "      <td>93</td>\n",
       "      <td>PG</td>\n",
       "    </tr>\n",
       "    <tr>\n",
       "      <th>...</th>\n",
       "      <td>...</td>\n",
       "      <td>...</td>\n",
       "      <td>...</td>\n",
       "      <td>...</td>\n",
       "      <td>...</td>\n",
       "      <td>...</td>\n",
       "    </tr>\n",
       "    <tr>\n",
       "      <th>8854</th>\n",
       "      <td>Zenda</td>\n",
       "      <td>2009</td>\n",
       "      <td>10</td>\n",
       "      <td>Drama</td>\n",
       "      <td>93</td>\n",
       "      <td>PG</td>\n",
       "    </tr>\n",
       "    <tr>\n",
       "      <th>8855</th>\n",
       "      <td>Zinzana</td>\n",
       "      <td>2015</td>\n",
       "      <td>10</td>\n",
       "      <td>Drama</td>\n",
       "      <td>90</td>\n",
       "      <td>PG</td>\n",
       "    </tr>\n",
       "    <tr>\n",
       "      <th>8857</th>\n",
       "      <td>Zombieland</td>\n",
       "      <td>2009</td>\n",
       "      <td>18</td>\n",
       "      <td>Comedy</td>\n",
       "      <td>114</td>\n",
       "      <td>Adult</td>\n",
       "    </tr>\n",
       "    <tr>\n",
       "      <th>8858</th>\n",
       "      <td>Zoom</td>\n",
       "      <td>2006</td>\n",
       "      <td>15</td>\n",
       "      <td>Family</td>\n",
       "      <td>107</td>\n",
       "      <td>14A</td>\n",
       "    </tr>\n",
       "    <tr>\n",
       "      <th>8859</th>\n",
       "      <td>Zubaan</td>\n",
       "      <td>2015</td>\n",
       "      <td>14</td>\n",
       "      <td>Drama</td>\n",
       "      <td>97</td>\n",
       "      <td>14A</td>\n",
       "    </tr>\n",
       "  </tbody>\n",
       "</table>\n",
       "<p>5012 rows × 6 columns</p>\n",
       "</div>"
      ],
      "text/plain": [
       "                                                   Name  Year Rating Category  \\\n",
       "40                             Inside the Mind of a Cat  2022      7   Family   \n",
       "45                                        Larva Pendant  2022      7   Family   \n",
       "47    My Little Pony: A New Alleneration: SinAll-Alo...  2022      7   Family   \n",
       "48                      Chip and Potato: Chip’s Holiday  2022    All   Family   \n",
       "50                                      Rescued by Ruby  2022      7   Family   \n",
       "...                                                 ...   ...    ...      ...   \n",
       "8854                                              Zenda  2009     10    Drama   \n",
       "8855                                            Zinzana  2015     10    Drama   \n",
       "8857                                         Zombieland  2009     18   Comedy   \n",
       "8858                                               Zoom  2006     15   Family   \n",
       "8859                                             Zubaan  2015     14    Drama   \n",
       "\n",
       "      Duration (Min) Modern Rating  \n",
       "40                67            PG  \n",
       "45                33            PG  \n",
       "47                90            PG  \n",
       "48                24             G  \n",
       "50                93            PG  \n",
       "...              ...           ...  \n",
       "8854              93            PG  \n",
       "8855              90            PG  \n",
       "8857             114         Adult  \n",
       "8858             107           14A  \n",
       "8859              97           14A  \n",
       "\n",
       "[5012 rows x 6 columns]"
      ]
     },
     "execution_count": 68,
     "metadata": {},
     "output_type": "execute_result"
    }
   ],
   "source": [
    "genre6_df=df_cleaned.loc[(df_cleaned['Category']==\"Thriller/Horror\")|(df_cleaned['Category']==\"Comedy\")|(df_cleaned['Category']==\"Action/Adventure\")|\n",
    "                         (df_cleaned['Category']==\"Drama\")|(df_cleaned['Category']==\"Family\")|(df_cleaned['Category']==\"Documentary\")]\n",
    "\n",
    "genre6_df\n"
   ]
  },
  {
   "cell_type": "code",
   "execution_count": 69,
   "id": "79b08b91",
   "metadata": {},
   "outputs": [
    {
     "data": {
      "text/plain": [
       "Rating\n",
       "10         76\n",
       "13         34\n",
       "14        170\n",
       "15         59\n",
       "16          6\n",
       "18        347\n",
       "7          27\n",
       "All        20\n",
       "NR          1\n",
       "TV-All     23\n",
       "Name: Category, dtype: int64"
      ]
     },
     "execution_count": 69,
     "metadata": {},
     "output_type": "execute_result"
    }
   ],
   "source": [
    "genreR=genre6_df.loc[(genre6_df['Category']==\"Documentary\")]\n",
    "genre_n=genreR.groupby(\"Rating\").count()\n",
    "\n",
    "genre_n['Category']"
   ]
  },
  {
   "cell_type": "code",
   "execution_count": 70,
   "id": "fcdad896",
   "metadata": {},
   "outputs": [
    {
     "data": {
      "image/png": "[encoded data removed]",
      "text/plain": [
       "<Figure size 432x288 with 1 Axes>"
      ]
     },
     "metadata": {
      "needs_background": "light"
     },
     "output_type": "display_data"
    }
   ],
   "source": [
    "y=[76,34,170,59,6,347,27,20,0,1,23]\n",
    "\n",
    "x = ['10','13', '14','15', '16', '18', '7', 'All','NC-17','NR','TV-All']\n",
    "\n",
    "\n",
    "rating_df=pd.DataFrame({\"Modern Rating\":x, \"Average\":y})\n",
    "\n",
    "plt.bar(x, y, color=\"r\", align=\"center\")\n",
    "plt.title(\"Number of Documentary movies per age ratings\")\n",
    "plt.xlabel(\"age ratings\")\n",
    "plt.ylabel(\"Number of Documentary movie\")\n",
    "# plt.figure(figsize=(12,6))\n",
    "plt.savefig(\"Number of movies per age ratings1.png\")\n",
    "\n",
    "plt.gca().invert_xaxis()\n",
    "\n",
    "plt.show()\n"
   ]
  },
  {
   "cell_type": "code",
   "execution_count": 71,
   "id": "fee6afab",
   "metadata": {},
   "outputs": [
    {
     "data": {
      "image/png": "[encoded data removed]",
      "text/plain": [
       "<Figure size 432x288 with 1 Axes>"
      ]
     },
     "metadata": {
      "needs_background": "light"
     },
     "output_type": "display_data"
    }
   ],
   "source": [
    "genre8=genre6_df.loc[(genre6_df['Category']==\"Drama\")]\n",
    "genre_D=genre8.groupby(\"Rating\").count()\n",
    "\n",
    "x = ['10', '13', '14', '15', '16','18','7', 'All','NC-17','NR','TV-All']\n",
    "\n",
    "y=[108,84,318,87,9,671,28,33,0,0,27]\n",
    "\n",
    "rating_df=pd.DataFrame({\"Modern Rating\":x, \"Average\":y})\n",
    "\n",
    "plt.bar(x, y, color=\"b\", align=\"center\")\n",
    "plt.title(\"Number of Drama movies per age ratings\")\n",
    "plt.xlabel(\"age ratings\")\n",
    "plt.ylabel(\"Number of Drama movie\")\n",
    "# plt.figure(figsize=(12,6))\n",
    "plt.savefig(\"Number of movies per age ratings2.png\")\n",
    "\n",
    "plt.gca().invert_xaxis()\n",
    "\n",
    "plt.show()"
   ]
  },
  {
   "cell_type": "code",
   "execution_count": 72,
   "id": "5c7b7883",
   "metadata": {},
   "outputs": [
    {
     "data": {
      "image/png": "[encoded data removed]",
      "text/plain": [
       "<Figure size 432x288 with 1 Axes>"
      ]
     },
     "metadata": {
      "needs_background": "light"
     },
     "output_type": "display_data"
    }
   ],
   "source": [
    "genre9=genre6_df.loc[(genre6_df['Category']==\"Action/Adventure\")]\n",
    "genre_A=genre9.groupby(\"Rating\").count()\n",
    "genre_A['Category']\n",
    "\n",
    "x = ['10', '13', '14', '15', '16','18','7', 'All','NC-17','NR','TV-All']\n",
    "\n",
    "y=[36,81,143,38,10,317,23,23,0,0,6]\n",
    "\n",
    "rating_df=pd.DataFrame({\"Modern Rating\":x, \"Average\":y})\n",
    "\n",
    "plt.bar(x, y, color=\"g\", align=\"center\")\n",
    "plt.title(\"Number of Action/Adventure movies per age ratings\")\n",
    "plt.xlabel(\"age ratings\")\n",
    "plt.ylabel(\"Number of Action/Adventure movie\")\n",
    "# plt.figure(figsize=(12,6))\n",
    "plt.savefig(\"Number of movies per age ratings3.png\")\n",
    "\n",
    "plt.gca().invert_xaxis()\n",
    "\n",
    "plt.show()"
   ]
  },
  {
   "cell_type": "code",
   "execution_count": 73,
   "id": "3109a1bc",
   "metadata": {},
   "outputs": [
    {
     "data": {
      "image/png": "[encoded data removed]",
      "text/plain": [
       "<Figure size 432x288 with 1 Axes>"
      ]
     },
     "metadata": {
      "needs_background": "light"
     },
     "output_type": "display_data"
    }
   ],
   "source": [
    "genre10=genre6_df.loc[(genre6_df['Category']==\"Comedy\")]\n",
    "genre_S=genre10.groupby(\"Rating\").count()\n",
    "genre_S['Category']\n",
    "\n",
    "x = ['10', '13', '14', '15', '16','18','7', 'All','NC-17','NR','TV-All']\n",
    "\n",
    "y=[101,67,298,36,15,799,21,33,1,0,16]\n",
    "\n",
    "rating_df=pd.DataFrame({\"Modern Rating\":x, \"Average\":y})\n",
    "\n",
    "plt.bar(x, y, color=\"y\", align=\"center\")\n",
    "plt.title(\"Number of Comedy movies per age ratings\")\n",
    "plt.xlabel(\"age ratings\")\n",
    "plt.ylabel(\"Number of Comedy movie\")\n",
    "# plt.figure(figsize=(12,6))\n",
    "plt.savefig(\"Number of movies per age ratings4.png\")\n",
    "\n",
    "plt.gca().invert_xaxis()\n",
    "\n",
    "plt.show()\n"
   ]
  },
  {
   "cell_type": "code",
   "execution_count": 74,
   "id": "bdfdd5a7",
   "metadata": {},
   "outputs": [
    {
     "data": {
      "image/png": "[encoded data removed]",
      "text/plain": [
       "<Figure size 432x288 with 1 Axes>"
      ]
     },
     "metadata": {
      "needs_background": "light"
     },
     "output_type": "display_data"
    }
   ],
   "source": [
    "\n",
    "labels = ['10', '13', '14', '15', '16','18','7', 'All','NC-17','NR','TV-All']\n",
    "Documentary = [76,34,170,59,6,347,27,20,0,1,23]\n",
    "Drama = [108,84,318,87,9,671,28,33,0,0,27]\n",
    "Action = [36,81,143,38,10,317,23,23,0,0,6]\n",
    "Comedy = [101,67,298,36,15,799,21,33,1,0,16]\n",
    "width = 0.85       # the width of the bars: can also be len(x) sequence\n",
    "\n",
    "fig, ax = plt.subplots()\n",
    "\n",
    "ax.bar(labels, Documentary, width, label='Documentary')\n",
    "ax.bar(labels, Drama, width, bottom=Documentary,\n",
    "       label='Drama')\n",
    "\n",
    "ax.bar(labels, Action, width, bottom=Documentary,\n",
    "       label='Action')\n",
    "\n",
    "ax.bar(labels, Comedy, width, bottom=Documentary,\n",
    "       label='Comedy')\n",
    "\n",
    "ax.set_ylabel('Number of movies')\n",
    "ax.set_xlabel('age ratings')\n",
    "ax.set_title('Number of movies per age ratings')\n",
    "ax.legend()\n",
    "\n",
    "plt.savefig(\"Number of movies per age ratings5.png\")\n",
    "plt.show()"
   ]
  },
  {
   "cell_type": "code",
   "execution_count": 55,
   "id": "29e79b1c",
   "metadata": {},
   "outputs": [
    {
     "data": {
      "text/plain": [
       "F_onewayResult(statistic=19.5774252880989, pvalue=6.452695703824926e-49)"
      ]
     },
     "execution_count": 55,
     "metadata": {},
     "output_type": "execute_result"
    }
   ],
   "source": [
    "# Anova test - confirm no statistical significance between genres and duration \n",
    "\n",
    "#Extract list of genres\n",
    "genre_list = df_cleaned['Category'].unique()\n",
    "\n",
    "# Group durations by genre\n",
    "genre_durations_grouped = df_cleaned['Duration (Min)'].groupby(df_cleaned['Category'])\n",
    "\n",
    "genre_durations = [genre_durations_grouped.get_group(genre) for genre in genre_list ]\n",
    "\n",
    "len(genre_durations)\n",
    "# Anova test \n",
    "stats.f_oneway(genre_durations[0],genre_durations[11],genre_durations[2],genre_durations[3],genre_durations[4],\\\n",
    "              genre_durations[5],genre_durations[6],genre_durations[7],genre_durations[8],genre_durations[9],\\\n",
    "              genre_durations[10],genre_durations[11],genre_durations[12],genre_durations[13],genre_durations[14])\n"
   ]
  },
  {
   "cell_type": "code",
   "execution_count": 56,
   "id": "ddec3f1a",
   "metadata": {},
   "outputs": [
    {
     "name": "stdout",
     "output_type": "stream",
     "text": [
      "['Family' 'Romance' 'Thriller/Horror' 'Others' 'Action/Adventure' 'Comedy'\n",
      " 'International' 'Science-Fiction' 'Anime' 'Documentary' 'Drama' 'Crime'\n",
      " 'Music' 'Fantasy' 'Classics']\n",
      "[88.61587982832619, 108.23529411764706, 99.19491525423729, 89.70588235294117, 106.4549483013294, 96.69286229271809, 104.17094017094017, 109.0, 99.21428571428571, 90.9043250327654, 105.97216117216117, 114.125, 98.69565217391305, 97.27272727272727, 98.17808219178082]\n"
     ]
    }
   ],
   "source": [
    "genre_max = [genre_durations_grouped.get_group(genre).max() for genre in genre_list ]\n",
    "genre_min = [genre_durations_grouped.get_group(genre).min() for genre in genre_list ]\n",
    "genre_avg = [genre_durations_grouped.get_group(genre).mean() for genre in genre_list ]\n",
    "print(genre_list)\n",
    "print(genre_avg)\n",
    "# print(genre_max)\n",
    "# print(genre_min)"
   ]
  },
  {
   "cell_type": "code",
   "execution_count": 57,
   "id": "9638680c",
   "metadata": {},
   "outputs": [
    {
     "data": {
      "text/plain": [
       "Ttest_indResult(statistic=-0.9034414226310628, pvalue=0.3873930687713172)"
      ]
     },
     "execution_count": 57,
     "metadata": {},
     "output_type": "execute_result"
    }
   ],
   "source": [
    "# t test between first decade bin avg, and the last bin average \n",
    "\n",
    "duration_firstbin = df_year_groupby.get_group('1942 - 1952')['Duration (Min)']\n",
    "duration_lastbin = df_year_groupby.get_group('2013 - 2022')['Duration (Min)']\n",
    "stats.ttest_ind(duration_firstbin, duration_lastbin, equal_var=False)"
   ]
  },
  {
   "cell_type": "code",
   "execution_count": null,
   "id": "8b8fe6c1",
   "metadata": {},
   "outputs": [],
   "source": []
  }
 ],
 "metadata": {
  "kernelspec": {
   "display_name": "Python 3 (ipykernel)",
   "language": "python",
   "name": "python3"
  },
  "language_info": {
   "codemirror_mode": {
    "name": "ipython",
    "version": 3
   },
   "file_extension": ".py",
   "mimetype": "text/x-python",
   "name": "python",
   "nbconvert_exporter": "python",
   "pygments_lexer": "ipython3",
   "version": "3.9.12"
  }
 },
 "nbformat": 4,
 "nbformat_minor": 5
}
